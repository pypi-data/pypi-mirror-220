{
 "cells": [
  {
   "cell_type": "code",
   "execution_count": 1,
   "id": "7ecae9a4-2927-47a2-ba0a-723ebb6dda96",
   "metadata": {},
   "outputs": [],
   "source": [
    "# Setup OpenAI Agent\n",
    "from llama_index.agent import OpenAIAgent\n",
    "import openai\n",
    "openai.api_key = 'sk-your-key'"
   ]
  },
  {
   "cell_type": "code",
   "execution_count": 4,
   "id": "a6f564f5-5c92-4ca7-8925-54989870deab",
   "metadata": {
    "tags": []
   },
   "outputs": [],
   "source": [
    "# Import and initialize our tool spec\n",
    "from llama_hub.tools.wikipedia.base import WikipediaToolSpec\n",
    "from llama_index.tools.tool_spec.load_and_search.base import LoadAndSearchToolSpec\n",
    "\n",
    "wiki_spec = WikipediaToolSpec()\n",
    "# Get the search wikipedia tool\n",
    "tool = wiki_spec.to_tool_list()[1]"
   ]
  },
  {
   "cell_type": "code",
   "execution_count": 5,
   "id": "9137752b-bd7f-48bc-a401-f2f440ad2f49",
   "metadata": {
    "tags": []
   },
   "outputs": [],
   "source": [
    "# Create the Agent with our tools\n",
    "from llama_index.agent import OpenAIAgent\n",
    "agent = OpenAIAgent.from_tools(\n",
    " LoadAndSearchToolSpec.from_defaults(\n",
    "    tool\n",
    " ).to_tool_list(), verbose=True\n",
    ")"
   ]
  },
  {
   "cell_type": "code",
   "execution_count": 6,
   "id": "a8f7351a-9b53-4f80-9276-69b4a2aa6008",
   "metadata": {
    "tags": []
   },
   "outputs": [
    {
     "name": "stdout",
     "output_type": "stream",
     "text": [
      "=== Calling Function ===\n",
      "Calling function: search_data with args: {\n",
      "  \"query\": \"capital of Poland\"\n",
      "}\n",
      "Got output: Content loaded! You can now search the information using read_search_data\n",
      "========================\n",
      "=== Calling Function ===\n",
      "Calling function: read_search_data with args: {\n",
      "  \"query\": \"What is the capital of Poland?\"\n",
      "}\n",
      "Got output: \n",
      "The capital of Poland is Warsaw.\n",
      "========================\n"
     ]
    },
    {
     "data": {
      "text/plain": [
       "AgentChatResponse(response='The capital of Poland is Warsaw.', sources=[ToolOutput(content='Content loaded! You can now search the information using read_search_data', tool_name='search_data', raw_input={'args': (), 'kwargs': {'query': 'capital of Poland'}}, raw_output='Content loaded! You can now search the information using read_search_data'), ToolOutput(content='\\nThe capital of Poland is Warsaw.', tool_name='read_search_data', raw_input={'args': (), 'kwargs': {'query': 'What is the capital of Poland?'}}, raw_output='\\nThe capital of Poland is Warsaw.')])"
      ]
     },
     "execution_count": 6,
     "metadata": {},
     "output_type": "execute_result"
    }
   ],
   "source": [
    "agent.chat('what is the capital of poland')"
   ]
  },
  {
   "cell_type": "code",
   "execution_count": 7,
   "id": "888a8712-6712-472b-aca1-4b08acceb754",
   "metadata": {
    "tags": []
   },
   "outputs": [
    {
     "name": "stdout",
     "output_type": "stream",
     "text": [
      "=== Calling Function ===\n",
      "Calling function: search_data with args: {\n",
      "  \"query\": \"history of Poland\"\n",
      "}\n",
      "Got output: Content loaded! You can now search the information using read_search_data\n",
      "========================\n",
      "=== Calling Function ===\n",
      "Calling function: read_search_data with args: {\n",
      "  \"query\": \"How long has Poland existed?\"\n",
      "}\n",
      "Got output: \n",
      "Poland has existed for over a thousand years, since the 10th century when Duke Mieszko I established the Piast dynasty.\n",
      "========================\n"
     ]
    },
    {
     "data": {
      "text/plain": [
       "AgentChatResponse(response='Poland has existed for over a thousand years, since the 10th century when Duke Mieszko I established the Piast dynasty.', sources=[ToolOutput(content='Content loaded! You can now search the information using read_search_data', tool_name='search_data', raw_input={'args': (), 'kwargs': {'query': 'history of Poland'}}, raw_output='Content loaded! You can now search the information using read_search_data'), ToolOutput(content='\\nPoland has existed for over a thousand years, since the 10th century when Duke Mieszko I established the Piast dynasty.', tool_name='read_search_data', raw_input={'args': (), 'kwargs': {'query': 'How long has Poland existed?'}}, raw_output='\\nPoland has existed for over a thousand years, since the 10th century when Duke Mieszko I established the Piast dynasty.')])"
      ]
     },
     "execution_count": 7,
     "metadata": {},
     "output_type": "execute_result"
    }
   ],
   "source": [
    "agent.chat('how long has poland existed')"
   ]
  },
  {
   "cell_type": "code",
   "execution_count": 8,
   "id": "37155aa5-15d6-4335-9e6e-3a275556a463",
   "metadata": {
    "tags": []
   },
   "outputs": [
    {
     "name": "stdout",
     "output_type": "stream",
     "text": [
      "=== Calling Function ===\n",
      "Calling function: read_search_data with args: {\n",
      "  \"query\": \"What is the size of Poland?\"\n",
      "}\n",
      "Got output: \n",
      "Poland has an area of 312,696 km2 (120,733 sq mi).\n",
      "========================\n"
     ]
    },
    {
     "data": {
      "text/plain": [
       "AgentChatResponse(response='Poland has an area of 312,696 km2 (120,733 sq mi).', sources=[ToolOutput(content='\\nPoland has an area of 312,696 km2 (120,733 sq mi).', tool_name='read_search_data', raw_input={'args': (), 'kwargs': {'query': 'What is the size of Poland?'}}, raw_output='\\nPoland has an area of 312,696 km2 (120,733 sq mi).')])"
      ]
     },
     "execution_count": 8,
     "metadata": {},
     "output_type": "execute_result"
    }
   ],
   "source": [
    "agent.chat('using information already loaded, how big is poland?')"
   ]
  },
  {
   "cell_type": "code",
   "execution_count": 9,
   "id": "857696e1-7a5e-4dad-9101-397f947e619d",
   "metadata": {
    "tags": []
   },
   "outputs": [
    {
     "name": "stdout",
     "output_type": "stream",
     "text": [
      "=== Calling Function ===\n",
      "Calling function: read_search_data with args: {\n",
      "  \"query\": \"What is the size of Greece?\"\n",
      "}\n",
      "Got output: \n",
      "Greece has a GDP per capita of approximately $16,000, which is on par with Portugal and the regions of Spain and Greece.\n",
      "========================\n"
     ]
    },
    {
     "data": {
      "text/plain": [
       "AgentChatResponse(response='I apologize, but it seems that the information loaded does not provide the size of Greece.', sources=[ToolOutput(content='\\nGreece has a GDP per capita of approximately $16,000, which is on par with Portugal and the regions of Spain and Greece.', tool_name='read_search_data', raw_input={'args': (), 'kwargs': {'query': 'What is the size of Greece?'}}, raw_output='\\nGreece has a GDP per capita of approximately $16,000, which is on par with Portugal and the regions of Spain and Greece.')])"
      ]
     },
     "execution_count": 9,
     "metadata": {},
     "output_type": "execute_result"
    }
   ],
   "source": [
    "agent.chat('using information already loaded, how big is greece?')"
   ]
  },
  {
   "cell_type": "code",
   "execution_count": null,
   "id": "87dceae9-e4dd-45af-a82a-835b384841df",
   "metadata": {},
   "outputs": [],
   "source": []
  }
 ],
 "metadata": {
  "kernelspec": {
   "display_name": "Python 3 (ipykernel)",
   "language": "python",
   "name": "python3"
  },
  "language_info": {
   "codemirror_mode": {
    "name": "ipython",
    "version": 3
   },
   "file_extension": ".py",
   "mimetype": "text/x-python",
   "name": "python",
   "nbconvert_exporter": "python",
   "pygments_lexer": "ipython3",
   "version": "3.9.16"
  }
 },
 "nbformat": 4,
 "nbformat_minor": 5
}

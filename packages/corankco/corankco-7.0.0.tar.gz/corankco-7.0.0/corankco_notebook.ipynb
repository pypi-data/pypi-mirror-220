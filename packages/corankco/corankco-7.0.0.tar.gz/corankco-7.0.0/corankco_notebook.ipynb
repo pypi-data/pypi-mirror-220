{
 "cells": [
  {
   "cell_type": "code",
   "execution_count": 1,
   "id": "e92a3943",
   "metadata": {},
   "outputs": [],
   "source": [
    "import corankco as crc"
   ]
  },
  {
   "cell_type": "code",
   "execution_count": 2,
   "id": "ca88cf40",
   "metadata": {},
   "outputs": [],
   "source": [
    "from typing import List"
   ]
  },
  {
   "cell_type": "markdown",
   "id": "128c031b",
   "metadata": {},
   "source": [
    "## Create rankings"
   ]
  },
  {
   "cell_type": "markdown",
   "id": "d3274292",
   "metadata": {},
   "source": [
    "### From a list of sets"
   ]
  },
  {
   "cell_type": "code",
   "execution_count": 3,
   "id": "8ae02791",
   "metadata": {},
   "outputs": [
    {
     "data": {
      "text/plain": [
       "[{1}, {2, 3}]"
      ]
     },
     "execution_count": 3,
     "metadata": {},
     "output_type": "execute_result"
    }
   ],
   "source": [
    "ranking1: crc.Ranking = crc.Ranking([{1}, {2, 3}])\n",
    "\n",
    "ranking1"
   ]
  },
  {
   "cell_type": "markdown",
   "id": "f9698568",
   "metadata": {},
   "source": [
    "### From a string"
   ]
  },
  {
   "cell_type": "code",
   "execution_count": 4,
   "id": "9146968c",
   "metadata": {},
   "outputs": [
    {
     "data": {
      "text/plain": [
       "[{1, 3}, {4}]"
      ]
     },
     "execution_count": 4,
     "metadata": {},
     "output_type": "execute_result"
    }
   ],
   "source": [
    "ranking2: crc.Ranking = crc.Ranking.from_string(\"[{3, 1}, {4}]\")\n",
    "\n",
    "ranking2"
   ]
  },
  {
   "cell_type": "markdown",
   "id": "211a41ad",
   "metadata": {},
   "source": [
    "### From a string, another allowed format"
   ]
  },
  {
   "cell_type": "code",
   "execution_count": 5,
   "id": "51140146",
   "metadata": {},
   "outputs": [
    {
     "data": {
      "text/plain": [
       "[{1}, {5}, {3}, {2}]"
      ]
     },
     "execution_count": 5,
     "metadata": {},
     "output_type": "execute_result"
    }
   ],
   "source": [
    "ranking3: crc.Ranking = crc.Ranking.from_string(\"[[1], [5], [3], [2]]\")\n",
    "\n",
    "ranking3"
   ]
  },
  {
   "cell_type": "markdown",
   "id": "0ab56493",
   "metadata": {},
   "source": [
    " ## Create datasets"
   ]
  },
  {
   "cell_type": "markdown",
   "id": "5b4b5e34",
   "metadata": {},
   "source": [
    "### From a list of Ranking objects"
   ]
  },
  {
   "cell_type": "code",
   "execution_count": 6,
   "id": "fb780253",
   "metadata": {},
   "outputs": [
    {
     "data": {
      "text/plain": [
       "[[{1}, {2, 3}], [{1, 3}, {4}], [{1}, {5}, {3}, {2}]]"
      ]
     },
     "execution_count": 6,
     "metadata": {},
     "output_type": "execute_result"
    }
   ],
   "source": [
    "dataset: crc.Dataset = crc.Dataset([ranking1, ranking2, ranking3])\n",
    "\n",
    "\n",
    "dataset"
   ]
  },
  {
   "cell_type": "code",
   "execution_count": 7,
   "id": "585ebaf6",
   "metadata": {},
   "outputs": [
    {
     "name": "stdout",
     "output_type": "stream",
     "text": [
      "Dataset description:\n",
      "\tname: None\n",
      "\telements: 5\n",
      "\trankings: 3\n",
      "\tcomplete: False\n",
      "\twithout ties: False\n",
      "\trankings:\n",
      "\t\tr1 = [{1}, {2, 3}]\n",
      "\t\tr2 = [{1, 3}, {4}]\n",
      "\t\tr3 = [{1}, {5}, {3}, {2}]\n"
     ]
    }
   ],
   "source": [
    "print(dataset.description())"
   ]
  },
  {
   "cell_type": "markdown",
   "id": "fdede42d",
   "metadata": {},
   "source": [
    "### From raw rankings that is a list of list of sets of either ints,or strs"
   ]
  },
  {
   "cell_type": "code",
   "execution_count": 8,
   "id": "83283ef4",
   "metadata": {},
   "outputs": [],
   "source": [
    "dataset2: crc.Dataset = crc.Dataset.from_raw_list([[{2, 1}, {4}], [{3, 1, 2}, {4}, {5}], [{1}, {2}, {3}, {4}]])"
   ]
  },
  {
   "cell_type": "code",
   "execution_count": 9,
   "id": "545d3af5",
   "metadata": {},
   "outputs": [
    {
     "name": "stdout",
     "output_type": "stream",
     "text": [
      "Dataset description:\n",
      "\tname: \n",
      "\telements: 5\n",
      "\trankings: 3\n",
      "\tcomplete: False\n",
      "\twithout ties: False\n",
      "\trankings:\n",
      "\t\tr1 = [{1, 2}, {4}]\n",
      "\t\tr2 = [{1, 2, 3}, {4}, {5}]\n",
      "\t\tr3 = [{1}, {2}, {3}, {4}]\n"
     ]
    }
   ],
   "source": [
    "print(dataset2.description())"
   ]
  },
  {
   "cell_type": "markdown",
   "id": "92f24989",
   "metadata": {},
   "source": [
    "### From a file path"
   ]
  },
  {
   "cell_type": "code",
   "execution_count": 10,
   "id": "5af5fa76",
   "metadata": {},
   "outputs": [],
   "source": [
    "dataset3: crc.Dataset = crc.Dataset.from_file(path=\"./tests/dataset_examples/dataset_example\")"
   ]
  },
  {
   "cell_type": "code",
   "execution_count": 11,
   "id": "b77e0f34",
   "metadata": {},
   "outputs": [
    {
     "name": "stdout",
     "output_type": "stream",
     "text": [
      "Dataset description:\n",
      "\tname: dataset_example\n",
      "\telements: 6\n",
      "\trankings: 3\n",
      "\tcomplete: True\n",
      "\twithout ties: True\n",
      "\trankings:\n",
      "\t\tr1 = [{1}, {2}, {3}, {4}, {5}, {6}]\n",
      "\t\tr2 = [{2}, {3}, {1}, {4}, {5}, {6}]\n",
      "\t\tr3 = [{3}, {1}, {2}, {4}, {5}, {6}]\n"
     ]
    }
   ],
   "source": [
    "print(dataset3.description())"
   ]
  },
  {
   "cell_type": "markdown",
   "id": "39dc4226",
   "metadata": {},
   "source": [
    "### Get all datasets from a folder"
   ]
  },
  {
   "cell_type": "code",
   "execution_count": 12,
   "id": "43114c19",
   "metadata": {},
   "outputs": [],
   "source": [
    "# note: all the files in the folder must be a dataset"
   ]
  },
  {
   "cell_type": "code",
   "execution_count": 13,
   "id": "f64eafc6",
   "metadata": {},
   "outputs": [],
   "source": [
    "list_datasets: List[crc.Dataset] = crc.Dataset.get_datasets_from_folder(path_folder=\"./tests/dataset_examples\")\n"
   ]
  },
  {
   "cell_type": "code",
   "execution_count": 14,
   "id": "4e6933b7",
   "metadata": {},
   "outputs": [
    {
     "name": "stdout",
     "output_type": "stream",
     "text": [
      "Dataset description:\n",
      "\tname: dataset_example\n",
      "\telements: 6\n",
      "\trankings: 3\n",
      "\tcomplete: True\n",
      "\twithout ties: True\n",
      "\trankings:\n",
      "\t\tr1 = [{1}, {2}, {3}, {4}, {5}, {6}]\n",
      "\t\tr2 = [{2}, {3}, {1}, {4}, {5}, {6}]\n",
      "\t\tr3 = [{3}, {1}, {2}, {4}, {5}, {6}]\n",
      "Dataset description:\n",
      "\tname: dataset_example_2\n",
      "\telements: 3\n",
      "\trankings: 3\n",
      "\tcomplete: True\n",
      "\twithout ties: False\n",
      "\trankings:\n",
      "\t\tr1 = [{1, 2}, {3}]\n",
      "\t\tr2 = [{1}, {2, 3}]\n",
      "\t\tr3 = [{1, 2, 3}]\n",
      "Dataset description:\n",
      "\tname: dataset_example_3\n",
      "\telements: 4\n",
      "\trankings: 3\n",
      "\tcomplete: False\n",
      "\twithout ties: False\n",
      "\trankings:\n",
      "\t\tr1 = [{3}, {1}, {2}]\n",
      "\t\tr2 = [{1}, {2, 4}]\n",
      "\t\tr3 = [{2, 3}, {1}]\n"
     ]
    }
   ],
   "source": [
    "for dataset_folder in list_datasets:\n",
    "    print(dataset_folder.description())\n",
    "    "
   ]
  },
  {
   "cell_type": "markdown",
   "id": "3e3869a6",
   "metadata": {},
   "source": [
    "## Choose a Scoring Scheme"
   ]
  },
  {
   "cell_type": "code",
   "execution_count": 15,
   "id": "03463b9e",
   "metadata": {},
   "outputs": [
    {
     "name": "stdout",
     "output_type": "stream",
     "text": [
      "[[0.0, 1.0, 1.0, 0.0, 1.0, 1.0], [1.0, 1.0, 0.0, 1.0, 1.0, 0.0]]\n"
     ]
    }
   ],
   "source": [
    "scoring_scheme: crc.ScoringScheme = crc.ScoringScheme([[0., 1., 1., 0., 1., 1.], [1., 1., 0., 1., 1., 0.]])\n",
    "print(scoring_scheme)    \n"
   ]
  },
  {
   "cell_type": "code",
   "execution_count": 16,
   "id": "c487698a",
   "metadata": {},
   "outputs": [
    {
     "name": "stdout",
     "output_type": "stream",
     "text": [
      "\n",
      "Scoring scheme description\n",
      "\tx before y in consensus\n",
      "\t\tx before y in input ranking: 0.0\n",
      "\t\ty before x in input ranking: 1.0\n",
      "\t\tx and y tied in input ranking: 1.0\n",
      "\t\tx present y missing in input ranking: 0.0\n",
      "\t\tx missing y present ranking: 1.0\n",
      "\t\tx and y missing in input ranking: 1.0\n",
      "\tx and y tied in consensus\n",
      "\t\tx before y in input ranking: 1.0\n",
      "\t\ty before x in input ranking: 1.0\n",
      "\t\tx and y tied in input ranking: 0.0\n",
      "\t\tx present y missing in input ranking: 1.0\n",
      "\t\tx missing y present ranking: 1.0\n",
      "\t\tx and y missing in input ranking: 0.0\n",
      "\n"
     ]
    }
   ],
   "source": [
    "print(scoring_scheme.description())"
   ]
  },
  {
   "cell_type": "markdown",
   "id": "98a2622b",
   "metadata": {},
   "source": [
    "## Choose an algorithm"
   ]
  },
  {
   "cell_type": "code",
   "execution_count": 17,
   "id": "a777f7a5",
   "metadata": {},
   "outputs": [],
   "source": [
    "# list of rank aggregation algorithms to use among:  \n",
    "\n"
   ]
  },
  {
   "cell_type": "code",
   "execution_count": 18,
   "id": "eaee438d",
   "metadata": {},
   "outputs": [],
   "source": [
    "# BioConsert, ParCons, ExactAlgorithm, KwikSortRandom, PickAPerm, BordaCount, BioCo, CopelandMethod\n"
   ]
  },
  {
   "cell_type": "code",
   "execution_count": null,
   "id": "dbc4ec0c",
   "metadata": {},
   "outputs": [],
   "source": []
  },
  {
   "cell_type": "code",
   "execution_count": 19,
   "id": "75682298",
   "metadata": {},
   "outputs": [],
   "source": [
    "algorithms_instances: List[crc.RankAggAlgorithm] = [crc.ExactAlgorithm(optimize=False),\n",
    "                                                 crc.KwikSortRandom(),\n",
    "                                                 crc.BioConsert(starting_algorithms=None),\n",
    "                                                 crc.BioConsert(starting_algorithms=[crc.CopelandMethod()]),\n",
    "                                                 crc.ParCons(bound_for_exact=90, auxiliary_algorithm=crc.BioConsert()),\n",
    "                                                 crc.CopelandMethod(),\n",
    "                                                 crc.BioCo(),\n",
    "                                                 crc.BordaCount(),\n",
    "                                                 ]"
   ]
  },
  {
   "cell_type": "code",
   "execution_count": 20,
   "id": "6152b6e2",
   "metadata": {},
   "outputs": [
    {
     "name": "stdout",
     "output_type": "stream",
     "text": [
      "ExactAlgorithm {'_optimize': False, '_alg': ExactAlgorithmCplex {'_optimize': False}}\n"
     ]
    }
   ],
   "source": [
    "alg1: crc.RankAggAlgorithm = algorithms_instances[0]\n",
    "print(alg1)"
   ]
  },
  {
   "cell_type": "code",
   "execution_count": 21,
   "id": "ad54a839",
   "metadata": {},
   "outputs": [
    {
     "name": "stdout",
     "output_type": "stream",
     "text": [
      "KwikSortRandom {}\n"
     ]
    }
   ],
   "source": [
    "alg2: crc.RankAggAlgorithm = algorithms_instances[1]\n",
    "\n",
    "print(alg2)"
   ]
  },
  {
   "cell_type": "code",
   "execution_count": 22,
   "id": "af16f140",
   "metadata": {},
   "outputs": [
    {
     "name": "stdout",
     "output_type": "stream",
     "text": [
      "ParCons {'_auxiliary_alg': BioConsert {'_starting_algorithms': []}, '_bound_for_exact': 90}\n"
     ]
    }
   ],
   "source": [
    "alg3: crc.RankAggAlgorithm = algorithms_instances[4]\n",
    "\n",
    "print(alg3)"
   ]
  },
  {
   "cell_type": "markdown",
   "id": "c8bc54f5",
   "metadata": {},
   "source": [
    "## Consensus computation"
   ]
  },
  {
   "cell_type": "code",
   "execution_count": 23,
   "id": "1155bc7e",
   "metadata": {},
   "outputs": [
    {
     "name": "stdout",
     "output_type": "stream",
     "text": [
      "consensus1 [[{1}, {2}, {3}, {4}, {5}, {6}], [{3}, {1}, {2}, {4}, {5}, {6}], [{2}, {3}, {1}, {4}, {5}, {6}]]\n"
     ]
    }
   ],
   "source": [
    "consensus1 = alg1.compute_consensus_rankings(dataset=dataset3,\n",
    "                                           scoring_scheme=scoring_scheme,\n",
    "                                           return_at_most_one_ranking=False)\n",
    "print(\"consensus1\", consensus1)"
   ]
  },
  {
   "cell_type": "code",
   "execution_count": 24,
   "id": "5c47e658",
   "metadata": {},
   "outputs": [],
   "source": [
    "# The algorithms may provide different information on the consensus"
   ]
  },
  {
   "cell_type": "code",
   "execution_count": 25,
   "id": "deec48a2",
   "metadata": {},
   "outputs": [
    {
     "name": "stdout",
     "output_type": "stream",
     "text": [
      "Consensus description:\n",
      "\tconsensus:\t\tc1 = [{1}, {2}, {3}, {4}, {5}, {6}]\n",
      "\t\tc2 = [{3}, {1}, {2}, {4}, {5}, {6}]\n",
      "\t\tc3 = [{2}, {3}, {1}, {4}, {5}, {6}]\n",
      "\tnecessarily optimal:True\n",
      "\tcomputed by:ExactAlgorithm\n",
      "\tkemeny score:4.0\n",
      "\tassociated dataset: [[{1}, {2}, {3}, {4}, {5}, {6}], [{2}, {3}, {1}, {4}, {5}, {6}], [{3}, {1}, {2}, {4}, {5}, {6}]]\n",
      "\tassociated scoring scheme: [[0.0, 1.0, 1.0, 0.0, 1.0, 1.0], [1.0, 1.0, 0.0, 1.0, 1.0, 0.0]]\n"
     ]
    }
   ],
   "source": [
    "print(consensus1.description())"
   ]
  },
  {
   "cell_type": "code",
   "execution_count": 26,
   "id": "13a6c849",
   "metadata": {},
   "outputs": [],
   "source": [
    "consensus2 = alg2.compute_consensus_rankings(dataset=dataset3,\n",
    "                                           scoring_scheme=scoring_scheme,\n",
    "                                           return_at_most_one_ranking=False)"
   ]
  },
  {
   "cell_type": "code",
   "execution_count": 27,
   "id": "ad7face5",
   "metadata": {},
   "outputs": [
    {
     "name": "stdout",
     "output_type": "stream",
     "text": [
      "Consensus description:\n",
      "\tconsensus:\t\tc1 = [{1}, {2}, {3}, {4}, {5}, {6}]\n",
      "\tcomputed by:KwikSortRandom\n",
      "\tkemeny score:4.0\n",
      "\tnecessarily optimal:False\n",
      "\tassociated dataset: [[{1}, {2}, {3}, {4}, {5}, {6}], [{2}, {3}, {1}, {4}, {5}, {6}], [{3}, {1}, {2}, {4}, {5}, {6}]]\n",
      "\tassociated scoring scheme: [[0.0, 1.0, 1.0, 0.0, 1.0, 1.0], [1.0, 1.0, 0.0, 1.0, 1.0, 0.0]]\n"
     ]
    }
   ],
   "source": [
    "print(consensus2.description())"
   ]
  },
  {
   "cell_type": "code",
   "execution_count": 28,
   "id": "8ebdc713",
   "metadata": {},
   "outputs": [
    {
     "name": "stdout",
     "output_type": "stream",
     "text": [
      "Consensus description:\n",
      "\tconsensus:\t\tc1 = [{1}, {2}, {3}, {4}, {5}, {6}]\n",
      "\tcomputed by:ParCons, uses  \"BioConsert with input rankings as starters\" on subproblems of size >  90\n",
      "\tnecessarily optimal:True\n",
      "\tweak partitioning (consistant with at least one optimal consensus)[{1, 2, 3}, {4}, {5}, {6}]\n",
      "\tkemeny score:4.0\n",
      "\tassociated dataset: [[{1}, {2}, {3}, {4}, {5}, {6}], [{2}, {3}, {1}, {4}, {5}, {6}], [{3}, {1}, {2}, {4}, {5}, {6}]]\n",
      "\tassociated scoring scheme: [[0.0, 1.0, 1.0, 0.0, 1.0, 1.0], [1.0, 1.0, 0.0, 1.0, 1.0, 0.0]]\n"
     ]
    }
   ],
   "source": [
    "consensus3 = alg3.compute_consensus_rankings(dataset=dataset3,\n",
    "                                           scoring_scheme=scoring_scheme,\n",
    "                                           return_at_most_one_ranking=False)\n",
    "print(consensus3.description())"
   ]
  },
  {
   "cell_type": "code",
   "execution_count": 29,
   "id": "3f5e5dd6",
   "metadata": {},
   "outputs": [],
   "source": [
    "# ParCons heuristics can be aware of providing an optimal consensus"
   ]
  },
  {
   "cell_type": "markdown",
   "id": "b88d7dce",
   "metadata": {},
   "source": [
    "### Consensus features"
   ]
  },
  {
   "cell_type": "code",
   "execution_count": 30,
   "id": "d44a437d",
   "metadata": {},
   "outputs": [
    {
     "data": {
      "text/plain": [
       "4.0"
      ]
     },
     "execution_count": 30,
     "metadata": {},
     "output_type": "execute_result"
    }
   ],
   "source": [
    "consensus3.kemeny_score"
   ]
  },
  {
   "cell_type": "code",
   "execution_count": 31,
   "id": "141189bd",
   "metadata": {},
   "outputs": [],
   "source": [
    "# The features are stored in a dict. The keys of the dict differ according to the used algorithm "
   ]
  },
  {
   "cell_type": "code",
   "execution_count": 32,
   "id": "80f936f1",
   "metadata": {},
   "outputs": [
    {
     "name": "stdout",
     "output_type": "stream",
     "text": [
      "ConsensusFeature.ASSOCIATED_ALGORITHM ParCons, uses  \"BioConsert with input rankings as starters\" on subproblems of size >  90\n",
      "ConsensusFeature.NECESSARILY_OPTIMAL True\n",
      "ConsensusFeature.WEAK_PARTITIONING [{1, 2, 3}, {4}, {5}, {6}]\n",
      "ConsensusFeature.KEMENY_SCORE 4.0\n"
     ]
    }
   ],
   "source": [
    "for key, value in consensus3.features.items():\n",
    "    print(key, value)"
   ]
  },
  {
   "cell_type": "code",
   "execution_count": 33,
   "id": "6fd32b4f",
   "metadata": {},
   "outputs": [
    {
     "name": "stdout",
     "output_type": "stream",
     "text": [
      "[{1, 2, 3}, {4}, {5}, {6}]\n"
     ]
    }
   ],
   "source": [
    "print(consensus3.features[crc.ConsensusFeature.WEAK_PARTITIONING])"
   ]
  },
  {
   "cell_type": "code",
   "execution_count": 34,
   "id": "fe1d4641",
   "metadata": {},
   "outputs": [
    {
     "name": "stdout",
     "output_type": "stream",
     "text": [
      "True\n"
     ]
    }
   ],
   "source": [
    "print(consensus3.features[crc.ConsensusFeature.NECESSARILY_OPTIMAL])"
   ]
  },
  {
   "cell_type": "markdown",
   "id": "68cff8c7",
   "metadata": {},
   "source": [
    "## Compute Kemeny scores"
   ]
  },
  {
   "cell_type": "code",
   "execution_count": 35,
   "id": "ca1f8b73",
   "metadata": {},
   "outputs": [],
   "source": [
    "# must be between a ranking object and a dataset object"
   ]
  },
  {
   "cell_type": "code",
   "execution_count": 36,
   "id": "14ddb54c",
   "metadata": {},
   "outputs": [],
   "source": [
    "kem_computation: crc.KemenyComputingFactory = crc.KemenyComputingFactory(scoring_scheme=scoring_scheme)"
   ]
  },
  {
   "cell_type": "code",
   "execution_count": 37,
   "id": "3e2f5779",
   "metadata": {},
   "outputs": [
    {
     "data": {
      "text/plain": [
       "4.0"
      ]
     },
     "execution_count": 37,
     "metadata": {},
     "output_type": "execute_result"
    }
   ],
   "source": [
    "kem_computation.get_kemeny_score(consensus3[0], dataset3)"
   ]
  },
  {
   "cell_type": "code",
   "execution_count": 38,
   "id": "01c56312",
   "metadata": {},
   "outputs": [],
   "source": [
    "# with a consensus object, it's easier: just use the property \"kemeny_score\"."
   ]
  },
  {
   "cell_type": "code",
   "execution_count": 39,
   "id": "d221e0b1",
   "metadata": {},
   "outputs": [
    {
     "name": "stdout",
     "output_type": "stream",
     "text": [
      "4.0\n"
     ]
    }
   ],
   "source": [
    "print(consensus3.kemeny_score)"
   ]
  },
  {
   "cell_type": "markdown",
   "id": "93384447",
   "metadata": {},
   "source": [
    "## Compute partitions"
   ]
  },
  {
   "cell_type": "code",
   "execution_count": 40,
   "id": "1d4b6fdc",
   "metadata": {},
   "outputs": [],
   "source": [
    "# consistent with at least one optimal consensus"
   ]
  },
  {
   "cell_type": "code",
   "execution_count": 41,
   "id": "14a516cd",
   "metadata": {},
   "outputs": [
    {
     "name": "stdout",
     "output_type": "stream",
     "text": [
      "[{1}, {3}, {5}, {2}, {4}]\n"
     ]
    }
   ],
   "source": [
    "one_opt: crc.OrderedPartition = crc.OrderedPartition.parcons_partition(dataset, scoring_scheme)\n",
    "print(one_opt)"
   ]
  },
  {
   "cell_type": "code",
   "execution_count": 42,
   "id": "09c4fbf8",
   "metadata": {},
   "outputs": [],
   "source": [
    "# consistent with all the optimal consensus"
   ]
  },
  {
   "cell_type": "code",
   "execution_count": 43,
   "id": "fbad3452",
   "metadata": {},
   "outputs": [
    {
     "name": "stdout",
     "output_type": "stream",
     "text": [
      "[{1}, {3}, {2, 4, 5}]\n"
     ]
    }
   ],
   "source": [
    "all_opt: crc.OrderedPartition = crc.OrderedPartition.parfront_partition(dataset, scoring_scheme)\n",
    "print(all_opt)"
   ]
  },
  {
   "cell_type": "code",
   "execution_count": null,
   "id": "6e6ae815",
   "metadata": {},
   "outputs": [],
   "source": []
  }
 ],
 "metadata": {
  "kernelspec": {
   "display_name": "Python 3 (ipykernel)",
   "language": "python",
   "name": "python3"
  },
  "language_info": {
   "codemirror_mode": {
    "name": "ipython",
    "version": 3
   },
   "file_extension": ".py",
   "mimetype": "text/x-python",
   "name": "python",
   "nbconvert_exporter": "python",
   "pygments_lexer": "ipython3",
   "version": "3.8.10"
  }
 },
 "nbformat": 4,
 "nbformat_minor": 5
}

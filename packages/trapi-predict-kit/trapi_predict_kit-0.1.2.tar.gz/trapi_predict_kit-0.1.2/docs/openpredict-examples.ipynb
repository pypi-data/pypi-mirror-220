{
 "cells": [
  {
   "source": [
    "# OpenPredict API examples\n",
    "\n",
    "Example calls to the OpenPredict Smart API accessible at https://openpredict.semanticscience.org\n",
    "\n",
    "## Get predictions for a list of MONDO diseases\n",
    "\n",
    "Example to convert multiple MONDO IDs to OMIM with Translator NodeNormalization API, then query the OpenPredict API, for predicted drugs."
   ],
   "cell_type": "markdown",
   "metadata": {}
  },
  {
   "cell_type": "code",
   "execution_count": 1,
   "metadata": {
    "tags": []
   },
   "outputs": [
    {
     "output_type": "stream",
     "name": "stdout",
     "text": [
      "🗺 Mapped MONDO:0018874 - \"acute myeloid leukemia\" to OMIM:601626\n",
      "🔎 Searching drug predictions for OMIM:601626\n",
      "🔮 Drug predictions found:\n",
      "DRUGBANK:DB00445 - 4'-epidoxorubicin - score: 0.9961497737170921\n",
      "DRUGBANK:DB00523 - 9-cis-retinoic acid - score: 0.9874284396192737\n",
      "DRUGBANK:DB00755 - all-trans-retinoic acid - score: 0.9743126272421361\n",
      "DRUGBANK:DB01177 - idarubicin - score: 0.8720287460212743\n",
      "DRUGBANK:DB00694 - daunorubicin - score: 0.8690425579912955\n",
      "\n",
      "🗺 Mapped MONDO:0008734 - \"adrenocortical carcinoma, hereditary\" to OMIM:202300\n",
      "🔎 Searching drug predictions for OMIM:202300\n",
      "❌️ No drug prediction found\n",
      "\n",
      "🗺 Mapped MONDO:0010150 - \"head and neck squamous cell carcinoma\" to OMIM:275355\n",
      "🔎 Searching drug predictions for OMIM:275355\n",
      "❌️ No drug prediction found\n",
      "\n",
      "🗺 Mapped MONDO:0017884 - \"papillary renal cell carcinoma\" to OMIM:605074\n",
      "🔎 Searching drug predictions for OMIM:605074\n",
      "❌️ No drug prediction found\n",
      "\n",
      "🗺 Mapped MONDO:0007256 - \"hepatocellular carcinoma\" to OMIM:114550\n",
      "🔎 Searching drug predictions for OMIM:114550\n",
      "🔮 Drug predictions found:\n",
      "DRUGBANK:DB01268 - sunitinib - score: 0.4879894924167112\n",
      "DRUGBANK:DB00619 - imatinib - score: 0.42706423324772375\n",
      "DRUGBANK:DB01254 - dasatinib (anhydrous) - score: 0.16642339218926067\n",
      "DRUGBANK:DB00530 - erlotinib - score: 0.1453789288998021\n",
      "DRUGBANK:DB01259 - lapatinib - score: 0.14109952883578697\n",
      "\n",
      "🗺 Mapped MONDO:0010108 - \"testicular germ cell tumor\" to OMIM:273300\n",
      "🔎 Searching drug predictions for OMIM:273300\n",
      "🔮 Drug predictions found:\n",
      "DRUGBANK:DB00361 - vinorelbine - score: 0.8600998734388942\n",
      "DRUGBANK:DB00444 - TENIPOSIDE - score: 0.8175337879839363\n",
      "DRUGBANK:DB00541 - CHEMBL499458 - score: 0.7975228993330036\n",
      "DRUGBANK:DB00694 - daunorubicin - score: 0.6848243682845369\n",
      "DRUGBANK:DB00218 - moxifloxacin - score: 0.6364442556816787\n",
      "\n",
      "🗺 Mapped MONDO:0008433 - \"small cell lung carcinoma\" to OMIM:182280\n",
      "🔎 Searching drug predictions for OMIM:182280\n",
      "🔮 Drug predictions found:\n",
      "DRUGBANK:DB00773 - etoposide - score: 0.8581968137050744\n",
      "DRUGBANK:DB00444 - TENIPOSIDE - score: 0.8175337879839363\n",
      "DRUGBANK:DB00762 - irinotecan - score: 0.7744841348312539\n",
      "DRUGBANK:DB01177 - idarubicin - score: 0.6514995019157603\n",
      "DRUGBANK:DB00694 - daunorubicin - score: 0.6492263982492081\n",
      "\n"
     ]
    }
   ],
   "source": [
    "import json \n",
    "import requests\n",
    "\n",
    "max_predictions_returned = 5\n",
    "mondo_ids_list = [\"MONDO:0018874\", \"MONDO:0008734\", \"MONDO:0004056\", \"MONDO:0005499\", \"MONDO:0006256\", \"MONDO:0006143\", \"MONDO:0019087\", \"MONDO:0002271\", \"MONDO:0003093\", \"MONDO:0018177\", \"MONDO:0010150\", \"MONDO:0017885\", \"MONDO:0005005\", \"MONDO:0017884\", \"MONDO:0007256\", \"MONDO:0005061\", \"MONDO:0005097\", \"MONDO:0018905\", \"MONDO:0005065\", \"MONDO:0006046\", \"MONDO:0006047\", \"MONDO:0004974\", \"MONDO:0005082\", \"MONDO:0002169\", \"MONDO:0005089\", \"MONDO:0005012\", \"MONDO:0005036\", \"MONDO:0010108\", \"MONDO:0006456\", \"MONDO:0015075\", \"MONDO:0006485\", \"MONDO:0000553\", \"MONDO:0006486\", \"MONDO:0004967\", \"MONDO:0005170\", \"MONDO:0005072\", \"MONDO:0008433\", \"MONDO:0004163\", \"MONDO:0000554\", \"MONDO:0005580\", \"MONDO:0004093\", \"MONDO:0000448\"]\n",
    "\n",
    "# First query Translator NodeNormalization API to convert MONDO IDs to OMIM IDs\n",
    "resolve_curies = requests.get('https://nodenormalization-sri.renci.org/get_normalized_nodes',\n",
    "                     params={'curie': mondo_ids_list})\n",
    "\n",
    "# Get corresponding OMIM IDs for MONDO IDs if match\n",
    "resp = resolve_curies.json()\n",
    "for mondo_id, alt_ids in resp.items():\n",
    "    for alt_id in alt_ids['equivalent_identifiers']:\n",
    "        if str(alt_id['identifier']).startswith('OMIM'):\n",
    "            print('🗺 Mapped ' + mondo_id + ' - \"' + alt_ids['id']['label'] + '\" to ' + alt_id['identifier'])\n",
    "            print('🔎 Searching drug predictions for ' + alt_id['identifier'])\n",
    "            # Query OpenPredict API with OMIM IDs using /predict call (faster than TRAPI /query)\n",
    "            get_predictions = requests.get('https://openpredict.semanticscience.org/predict',\n",
    "                     params={\n",
    "                         'disease_id': alt_id['identifier'],\n",
    "                         'n_results': max_predictions_returned\n",
    "                     }).json()\n",
    "            # Display predictions found\n",
    "            if 'hits' in get_predictions:\n",
    "                print('🔮 Drug predictions found:')\n",
    "                for prediction in get_predictions['hits']:\n",
    "                    # print(prediction)\n",
    "                    predicted_label = prediction['id']\n",
    "                    if 'label' in prediction.keys():\n",
    "                        predicted_label = predicted_label + ' - ' + prediction['label']\n",
    "                    print(predicted_label + ' - score: ' + str(prediction['score']))\n",
    "            else:\n",
    "                print('❌️ No drug prediction found')\n",
    "            print('')"
   ]
  },
  {
   "cell_type": "markdown",
   "metadata": {},
   "source": [
    "## TRAPI `/query`\n",
    "\n",
    "Send a query described using the Translator Reasoner API standard to OpenPredict:"
   ]
  },
  {
   "cell_type": "code",
   "execution_count": 2,
   "metadata": {
    "tags": []
   },
   "outputs": [
    {
     "output_type": "stream",
     "name": "stdout",
     "text": [
      "{\n  \"knowledge_graph\": {\n    \"edges\": {\n      \"e0\": {\n        \"association_type\": \"biolink:ChemicalToDiseaseOrPhenotypicFeatureAssociation\",\n        \"has_confidence_level\": 0.8267106697312154,\n        \"object\": \"DRUGBANK:DB00394\",\n        \"predicate\": \"biolink:treated_by\",\n        \"provided_by\": \"Translator OpenPredict model openpredict_baseline\",\n        \"subject\": \"OMIM:246300\"\n      },\n      \"e1\": {\n        \"association_type\": \"biolink:ChemicalToDiseaseOrPhenotypicFeatureAssociation\",\n        \"has_confidence_level\": 0.8246895250693298,\n        \"object\": \"DRUGBANK:DB00394\",\n        \"predicate\": \"biolink:treated_by\",\n        \"provided_by\": \"Translator OpenPredict model openpredict_baseline\",\n        \"subject\": \"OMIM:181460\"\n      },\n      \"e10\": {\n        \"association_type\": \"biolink:ChemicalToDiseaseOrPhenotypicFeatureAssociation\",\n        \"has_confidence_level\": 0.6958029445317564,\n        \"object\": \"DRUGBANK:DB00394\",\n        \"predicate\": \"biolink:treated_by\",\n        \"provided_by\": \"Translator OpenPredict model openpredict_baseline\",\n        \"subject\": \"OMIM:140300\"\n      },\n      \"e11\": {\n        \"association_type\": \"biolink:ChemicalToDiseaseOrPhenotypicFeatureAssociation\",\n        \"has_confidence_level\": 0.5959329292387471,\n        \"object\": \"DRUGBANK:DB00394\",\n        \"predicate\": \"biolink:treated_by\",\n        \"provided_by\": \"Translator OpenPredict model openpredict_baseline\",\n        \"subject\": \"OMIM:166760\"\n      },\n      \"e12\": {\n        \"association_type\": \"biolink:ChemicalToDiseaseOrPhenotypicFeatureAssociation\",\n        \"has_confidence_level\": 0.5761297981746486,\n        \"object\": \"DRUGBANK:DB00394\",\n        \"predicate\": \"biolink:treated_by\",\n        \"provided_by\": \"Translator OpenPredict model openpredict_baseline\",\n        \"subject\": \"OMIM:165720\"\n      },\n      \"e2\": {\n        \"association_type\": \"biolink:ChemicalToDiseaseOrPhenotypicFeatureAssociation\",\n        \"has_confidence_level\": 0.8246895250693298,\n        \"object\": \"DRUGBANK:DB00394\",\n        \"predicate\": \"biolink:treated_by\",\n        \"provided_by\": \"Translator OpenPredict model openpredict_baseline\",\n        \"subject\": \"OMIM:146850\"\n      },\n      \"e3\": {\n        \"association_type\": \"biolink:ChemicalToDiseaseOrPhenotypicFeatureAssociation\",\n        \"has_confidence_level\": 0.7923436456925074,\n        \"object\": \"DRUGBANK:DB00394\",\n        \"predicate\": \"biolink:treated_by\",\n        \"provided_by\": \"Translator OpenPredict model openpredict_baseline\",\n        \"subject\": \"OMIM:600807\"\n      },\n      \"e4\": {\n        \"association_type\": \"biolink:ChemicalToDiseaseOrPhenotypicFeatureAssociation\",\n        \"has_confidence_level\": 0.7923436456925074,\n        \"object\": \"DRUGBANK:DB00394\",\n        \"predicate\": \"biolink:treated_by\",\n        \"provided_by\": \"Translator OpenPredict model openpredict_baseline\",\n        \"subject\": \"OMIM:208550\"\n      },\n      \"e5\": {\n        \"association_type\": \"biolink:ChemicalToDiseaseOrPhenotypicFeatureAssociation\",\n        \"has_confidence_level\": 0.7861743516144278,\n        \"object\": \"DRUGBANK:DB00394\",\n        \"predicate\": \"biolink:treated_by\",\n        \"provided_by\": \"Translator OpenPredict model openpredict_baseline\",\n        \"subject\": \"OMIM:109100\"\n      },\n      \"e6\": {\n        \"association_type\": \"biolink:ChemicalToDiseaseOrPhenotypicFeatureAssociation\",\n        \"has_confidence_level\": 0.781101674541534,\n        \"object\": \"DRUGBANK:DB00394\",\n        \"predicate\": \"biolink:treated_by\",\n        \"provided_by\": \"Translator OpenPredict model openpredict_baseline\",\n        \"subject\": \"OMIM:182280\"\n      },\n      \"e7\": {\n        \"association_type\": \"biolink:ChemicalToDiseaseOrPhenotypicFeatureAssociation\",\n        \"has_confidence_level\": 0.744347774528358,\n        \"object\": \"DRUGBANK:DB00394\",\n        \"predicate\": \"biolink:treated_by\",\n        \"provided_by\": \"Translator OpenPredict model openpredict_baseline\",\n        \"subject\": \"OMIM:211980\"\n      },\n      \"e8\": {\n        \"association_type\": \"biolink:ChemicalToDiseaseOrPhenotypicFeatureAssociation\",\n        \"has_confidence_level\": 0.6981905253572034,\n        \"object\": \"DRUGBANK:DB00394\",\n        \"predicate\": \"biolink:treated_by\",\n        \"provided_by\": \"Translator OpenPredict model openpredict_baseline\",\n        \"subject\": \"OMIM:109543\"\n      },\n      \"e9\": {\n        \"association_type\": \"biolink:ChemicalToDiseaseOrPhenotypicFeatureAssociation\",\n        \"has_confidence_level\": 0.6970851597240628,\n        \"object\": \"DRUGBANK:DB00394\",\n        \"predicate\": \"biolink:treated_by\",\n        \"provided_by\": \"Translator OpenPredict model openpredict_baseline\",\n        \"subject\": \"OMIM:601626\"\n      }\n    },\n    \"nodes\": {\n      \"DRUGBANK:DB00394\": {\n        \"category\": \"drug\",\n        \"name\": \"beclomethasone dipropionate\"\n      },\n      \"OMIM:109100\": {\n        \"category\": \"disease\",\n        \"name\": \"autoimmune disease\"\n      },\n      \"OMIM:109543\": {\n        \"category\": \"disease\",\n        \"name\": \"leukemia, chronic lymphocytic, susceptibility to, 2\"\n      },\n      \"OMIM:140300\": {\n        \"category\": \"disease\",\n        \"name\": \"Hashimoto thyroiditis\"\n      },\n      \"OMIM:146850\": {\n        \"category\": \"disease\",\n        \"name\": \"immune suppression\"\n      },\n      \"OMIM:165720\": {\n        \"category\": \"disease\",\n        \"name\": \"osteoarthritis susceptibility 1\"\n      },\n      \"OMIM:166760\": {\n        \"category\": \"disease\",\n        \"name\": \"otitis media, susceptibility to\"\n      },\n      \"OMIM:181460\": {\n        \"category\": \"disease\",\n        \"name\": \"intestinal schistosomiasis\"\n      },\n      \"OMIM:182280\": {\n        \"category\": \"disease\",\n        \"name\": \"small cell lung carcinoma\"\n      },\n      \"OMIM:208550\": {\n        \"category\": \"disease\",\n        \"name\": \"asthma, nasal polyps, and aspirin intolerance\"\n      },\n      \"OMIM:211980\": {\n        \"category\": \"disease\",\n        \"name\": \"lung cancer\"\n      },\n      \"OMIM:246300\": {\n        \"category\": \"disease\",\n        \"name\": \"leprosy, susceptibility to, 3\"\n      },\n      \"OMIM:600807\": {\n        \"category\": \"disease\",\n        \"name\": \"inherited susceptibility to asthma\"\n      },\n      \"OMIM:601626\": {\n        \"category\": \"disease\",\n        \"name\": \"acute myeloid leukemia\"\n      }\n    }\n  },\n  \"query_graph\": {\n    \"edges\": {\n      \"e01\": {\n        \"object\": \"n1\",\n        \"predicate\": \"biolink:treated_by\",\n        \"subject\": \"n0\"\n      }\n    },\n    \"nodes\": {\n      \"n0\": {\n        \"category\": \"biolink:Drug\",\n        \"curie\": \"DRUGBANK:DB00394\"\n      },\n      \"n1\": {\n        \"category\": \"biolink:Disease\"\n      }\n    }\n  },\n  \"results\": [\n    {\n      \"edge_bindings\": {\n        \"e01\": [\n          {\n            \"id\": \"e0\"\n          }\n        ]\n      },\n      \"node_bindings\": {\n        \"n0\": [\n          {\n            \"id\": \"DRUGBANK:DB00394\"\n          }\n        ],\n        \"n1\": [\n          {\n            \"id\": \"OMIM:246300\"\n          }\n        ]\n      }\n    },\n    {\n      \"edge_bindings\": {\n        \"e01\": [\n          {\n            \"id\": \"e1\"\n          }\n        ]\n      },\n      \"node_bindings\": {\n        \"n0\": [\n          {\n            \"id\": \"DRUGBANK:DB00394\"\n          }\n        ],\n        \"n1\": [\n          {\n            \"id\": \"OMIM:181460\"\n          }\n        ]\n      }\n    },\n    {\n      \"edge_bindings\": {\n        \"e01\": [\n          {\n            \"id\": \"e2\"\n          }\n        ]\n      },\n      \"node_bindings\": {\n        \"n0\": [\n          {\n            \"id\": \"DRUGBANK:DB00394\"\n          }\n        ],\n        \"n1\": [\n          {\n            \"id\": \"OMIM:146850\"\n          }\n        ]\n      }\n    },\n    {\n      \"edge_bindings\": {\n        \"e01\": [\n          {\n            \"id\": \"e3\"\n          }\n        ]\n      },\n      \"node_bindings\": {\n        \"n0\": [\n          {\n            \"id\": \"DRUGBANK:DB00394\"\n          }\n        ],\n        \"n1\": [\n          {\n            \"id\": \"OMIM:600807\"\n          }\n        ]\n      }\n    },\n    {\n      \"edge_bindings\": {\n        \"e01\": [\n          {\n            \"id\": \"e4\"\n          }\n        ]\n      },\n      \"node_bindings\": {\n        \"n0\": [\n          {\n            \"id\": \"DRUGBANK:DB00394\"\n          }\n        ],\n        \"n1\": [\n          {\n            \"id\": \"OMIM:208550\"\n          }\n        ]\n      }\n    },\n    {\n      \"edge_bindings\": {\n        \"e01\": [\n          {\n            \"id\": \"e5\"\n          }\n        ]\n      },\n      \"node_bindings\": {\n        \"n0\": [\n          {\n            \"id\": \"DRUGBANK:DB00394\"\n          }\n        ],\n        \"n1\": [\n          {\n            \"id\": \"OMIM:109100\"\n          }\n        ]\n      }\n    },\n    {\n      \"edge_bindings\": {\n        \"e01\": [\n          {\n            \"id\": \"e6\"\n          }\n        ]\n      },\n      \"node_bindings\": {\n        \"n0\": [\n          {\n            \"id\": \"DRUGBANK:DB00394\"\n          }\n        ],\n        \"n1\": [\n          {\n            \"id\": \"OMIM:182280\"\n          }\n        ]\n      }\n    },\n    {\n      \"edge_bindings\": {\n        \"e01\": [\n          {\n            \"id\": \"e7\"\n          }\n        ]\n      },\n      \"node_bindings\": {\n        \"n0\": [\n          {\n            \"id\": \"DRUGBANK:DB00394\"\n          }\n        ],\n        \"n1\": [\n          {\n            \"id\": \"OMIM:211980\"\n          }\n        ]\n      }\n    },\n    {\n      \"edge_bindings\": {\n        \"e01\": [\n          {\n            \"id\": \"e8\"\n          }\n        ]\n      },\n      \"node_bindings\": {\n        \"n0\": [\n          {\n            \"id\": \"DRUGBANK:DB00394\"\n          }\n        ],\n        \"n1\": [\n          {\n            \"id\": \"OMIM:109543\"\n          }\n        ]\n      }\n    },\n    {\n      \"edge_bindings\": {\n        \"e01\": [\n          {\n            \"id\": \"e9\"\n          }\n        ]\n      },\n      \"node_bindings\": {\n        \"n0\": [\n          {\n            \"id\": \"DRUGBANK:DB00394\"\n          }\n        ],\n        \"n1\": [\n          {\n            \"id\": \"OMIM:601626\"\n          }\n        ]\n      }\n    },\n    {\n      \"edge_bindings\": {\n        \"e01\": [\n          {\n            \"id\": \"e10\"\n          }\n        ]\n      },\n      \"node_bindings\": {\n        \"n0\": [\n          {\n            \"id\": \"DRUGBANK:DB00394\"\n          }\n        ],\n        \"n1\": [\n          {\n            \"id\": \"OMIM:140300\"\n          }\n        ]\n      }\n    },\n    {\n      \"edge_bindings\": {\n        \"e01\": [\n          {\n            \"id\": \"e11\"\n          }\n        ]\n      },\n      \"node_bindings\": {\n        \"n0\": [\n          {\n            \"id\": \"DRUGBANK:DB00394\"\n          }\n        ],\n        \"n1\": [\n          {\n            \"id\": \"OMIM:166760\"\n          }\n        ]\n      }\n    },\n    {\n      \"edge_bindings\": {\n        \"e01\": [\n          {\n            \"id\": \"e12\"\n          }\n        ]\n      },\n      \"node_bindings\": {\n        \"n0\": [\n          {\n            \"id\": \"DRUGBANK:DB00394\"\n          }\n        ],\n        \"n1\": [\n          {\n            \"id\": \"OMIM:165720\"\n          }\n        ]\n      }\n    }\n  ]\n}\n"
     ]
    }
   ],
   "source": [
    "data = json.dumps({\n",
    "  \"message\": {\n",
    "    \"n_results\": \"2\",\n",
    "    \"query_graph\": {\n",
    "      \"edges\": {\n",
    "        \"e01\": {\n",
    "          \"object\": \"n1\",\n",
    "          \"predicate\": \"biolink:treated_by\",\n",
    "          \"subject\": \"n0\"\n",
    "        }\n",
    "      },\n",
    "      \"nodes\": {\n",
    "        \"n0\": {\n",
    "          \"category\": \"biolink:Drug\",\n",
    "          \"id\": \"DRUGBANK:DB00394\"\n",
    "        },\n",
    "        \"n1\": {\n",
    "          \"category\": \"biolink:Disease\"\n",
    "        }\n",
    "      }\n",
    "    },\n",
    "    \"query_options\": {\n",
    "      \"min_score\": \"0.5\"\n",
    "    }\n",
    "  }\n",
    "})\n",
    "headers = {'Content-type': 'application/json'}\n",
    "predict_drugs = requests.post('https://openpredict.semanticscience.org/query',\n",
    "                     data=data, headers=headers)\n",
    "print(json.dumps( predict_drugs.json(), indent = 2))"
   ]
  },
  {
   "source": [
    "## Simpler `/predict` operation\n",
    "\n",
    "This operation allow to quickly get predicted drug/disease for the given drug/disease (same as the TRAPI operation, but simpler to query)\n",
    "\n",
    "Example providing a `disease_id`, we can also provide a `drug_id` in the params: `{'drug_id':\"DRUGBANK:DB00394\"}` "
   ],
   "cell_type": "markdown",
   "metadata": {}
  },
  {
   "cell_type": "code",
   "execution_count": 3,
   "metadata": {
    "tags": []
   },
   "outputs": [
    {
     "output_type": "stream",
     "name": "stdout",
     "text": [
      "{\n  \"count\": 2,\n  \"hits\": [\n    {\n      \"id\": \"DRUGBANK:DB00445\",\n      \"label\": \"4'-epidoxorubicin\",\n      \"score\": 0.9961497737170921,\n      \"type\": \"drug\"\n    },\n    {\n      \"id\": \"DRUGBANK:DB00218\",\n      \"label\": \"moxifloxacin\",\n      \"score\": 0.8557240065188978,\n      \"type\": \"drug\"\n    }\n  ]\n}\n"
     ]
    }
   ],
   "source": [
    "# For a disease\n",
    "predict_diseases = requests.get('https://openpredict.semanticscience.org/predict',\n",
    "                     params={'disease_id':\"OMIM:268220\", \n",
    "                             'model_id':'openpredict_baseline',\n",
    "                             'n_results': 2})\n",
    "print(json.dumps( predict_diseases.json(), indent = 2))"
   ]
  },
  {
   "source": [
    "## Translator identifiers resolution\n",
    "\n",
    "Example query to convert OMIM ID to MONDO ID using the Translator NodeNormalization API:\n",
    "\n",
    "Translator ID preferences:\n",
    "* [For Disease](https://github.com/biolink/biolink-model/blob/master/biolink-model.yaml#L2853)\n",
    "* [Chemical substance](https://github.com/biolink/biolink-model/blob/master/biolink-model.yaml#L3097) \n",
    "* [Drug](https://github.com/biolink/biolink-model/blob/master/biolink-model.yaml#L3119)\n",
    "\n",
    "Resolve CURIEs using Translator API services: "
   ],
   "cell_type": "markdown",
   "metadata": {}
  },
  {
   "cell_type": "code",
   "execution_count": 4,
   "metadata": {
    "tags": []
   },
   "outputs": [
    {
     "output_type": "stream",
     "name": "stdout",
     "text": [
      "{\n  \"OMIM:268220\": {\n    \"id\": {\n      \"identifier\": \"MONDO:0009994\",\n      \"label\": \"alveolar rhabdomyosarcoma (disease)\"\n    },\n    \"equivalent_identifiers\": [\n      {\n        \"identifier\": \"MONDO:0009994\",\n        \"label\": \"alveolar rhabdomyosarcoma (disease)\"\n      },\n      {\n        \"identifier\": \"DOID:4051\"\n      },\n      {\n        \"identifier\": \"OMIM:268220\"\n      },\n      {\n        \"identifier\": \"ORPHANET:99756\"\n      },\n      {\n        \"identifier\": \"UMLS:C0206655\"\n      },\n      {\n        \"identifier\": \"MESH:D018232\"\n      },\n      {\n        \"identifier\": \"MEDDRA:10065867\"\n      },\n      {\n        \"identifier\": \"NCIT:C3749\"\n      },\n      {\n        \"identifier\": \"SNOMEDCT:404053004\"\n      },\n      {\n        \"identifier\": \"SNOMEDCT:63449009\"\n      },\n      {\n        \"identifier\": \"HP:0006779\",\n        \"label\": \"Alveolar rhabdomyosarcoma\"\n      }\n    ],\n    \"type\": [\n      \"biolink:Disease\",\n      \"biolink:DiseaseOrPhenotypicFeature\",\n      \"biolink:BiologicalEntity\",\n      \"biolink:NamedThing\"\n    ]\n  },\n  \"DRUGBANK:DB00394\": {\n    \"id\": {\n      \"identifier\": \"CHEBI:3002\",\n      \"label\": \"beclomethasone dipropionate\"\n    },\n    \"equivalent_identifiers\": [\n      {\n        \"identifier\": \"CHEBI:3002\",\n        \"label\": \"beclomethasone dipropionate\"\n      },\n      {\n        \"identifier\": \"CHEMBL.COMPOUND:CHEMBL1200500\",\n        \"label\": \"BECLOMETHASONE DIPROPIONATE\"\n      },\n      {\n        \"identifier\": \"DRUGBANK:DB00394\"\n      },\n      {\n        \"identifier\": \"PUBCHEM.COMPOUND:21700\"\n      },\n      {\n        \"identifier\": \"HMDB:HMDB0014538\"\n      },\n      {\n        \"identifier\": \"INCHIKEY:UIPRPTNYUKOWQQ-WBFSQFMTSA-M\"\n      },\n      {\n        \"identifier\": \"UNII:5B307S63B2\"\n      },\n      {\n        \"identifier\": \"KEGG:C07813\",\n        \"label\": \"Beclomethasone dipropionate\"\n      },\n      {\n        \"identifier\": \"gtpo:5894\"\n      }\n    ],\n    \"type\": [\n      \"biolink:ChemicalSubstance\",\n      \"biolink:MolecularEntity\",\n      \"biolink:BiologicalEntity\",\n      \"biolink:NamedThing\",\n      \"biolink:Entity\"\n    ]\n  },\n  \"HP:0007354\": {\n    \"id\": {\n      \"identifier\": \"MONDO:0004976\",\n      \"label\": \"amyotrophic lateral sclerosis\"\n    },\n    \"equivalent_identifiers\": [\n      {\n        \"identifier\": \"MONDO:0004976\",\n        \"label\": \"amyotrophic lateral sclerosis\"\n      },\n      {\n        \"identifier\": \"DOID:332\"\n      },\n      {\n        \"identifier\": \"ORPHANET:803\"\n      },\n      {\n        \"identifier\": \"EFO:0000253\",\n        \"label\": \"amyotrophic lateral sclerosis\"\n      },\n      {\n        \"identifier\": \"UMLS:C0393554\"\n      },\n      {\n        \"identifier\": \"UMLS:C0543859\"\n      },\n      {\n        \"identifier\": \"UMLS:C0002736\"\n      },\n      {\n        \"identifier\": \"MESH:D000690\"\n      },\n      {\n        \"identifier\": \"MEDDRA:10002026\"\n      },\n      {\n        \"identifier\": \"NCIT:C34373\"\n      },\n      {\n        \"identifier\": \"SNOMEDCT:230258005\"\n      },\n      {\n        \"identifier\": \"SNOMEDCT:86044005\"\n      },\n      {\n        \"identifier\": \"HP:0007354\",\n        \"label\": \"Amyotrophic lateral sclerosis\"\n      }\n    ],\n    \"type\": [\n      \"biolink:Disease\",\n      \"biolink:NamedThing\",\n      \"biolink:BiologicalEntity\",\n      \"biolink:DiseaseOrPhenotypicFeature\"\n    ]\n  },\n  \"HGNC:613\": {\n    \"id\": {\n      \"identifier\": \"NCBIGene:348\",\n      \"label\": \"APOE\"\n    },\n    \"equivalent_identifiers\": [\n      {\n        \"identifier\": \"NCBIGene:348\"\n      },\n      {\n        \"identifier\": \"ENSEMBL:ENSG00000130203\"\n      },\n      {\n        \"identifier\": \"HGNC:613\",\n        \"label\": \"APOE\"\n      },\n      {\n        \"identifier\": \"UniProtKB:P02649\"\n      }\n    ],\n    \"type\": [\n      \"biolink:Gene\",\n      \"biolink:NamedThing\",\n      \"biolink:BiologicalEntity\",\n      \"biolink:MolecularEntity\",\n      \"biolink:GenomicEntity\",\n      \"biolink:MacromolecularMachine\",\n      \"biolink:GeneOrGeneProduct\"\n    ]\n  }\n}\n"
     ]
    }
   ],
   "source": [
    "resolve_curies = requests.get('https://nodenormalization-sri.renci.org/get_normalized_nodes',\n",
    "                     params={'curie':[\"OMIM:268220\", \"DRUGBANK:DB00394\", \"HP:0007354\", \"HGNC:613\"]})\n",
    "print( json.dumps( resolve_curies.json(), indent = 2))"
   ]
  },
  {
   "cell_type": "code",
   "execution_count": null,
   "metadata": {},
   "outputs": [],
   "source": []
  }
 ],
 "metadata": {
  "kernelspec": {
   "display_name": "Python 3",
   "language": "python",
   "name": "python3"
  },
  "language_info": {
   "codemirror_mode": {
    "name": "ipython",
    "version": 3
   },
   "file_extension": ".py",
   "mimetype": "text/x-python",
   "name": "python",
   "nbconvert_exporter": "python",
   "pygments_lexer": "ipython3",
   "version": "3.6.9-final"
  }
 },
 "nbformat": 4,
 "nbformat_minor": 4
}

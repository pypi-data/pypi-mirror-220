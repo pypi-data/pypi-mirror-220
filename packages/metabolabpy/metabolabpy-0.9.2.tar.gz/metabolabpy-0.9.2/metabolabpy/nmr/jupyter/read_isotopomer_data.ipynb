{
 "cells": [
  {
   "cell_type": "code",
   "execution_count": 1,
   "outputs": [],
   "source": [
    "import pandas as pd\n",
    "from metabolabpytools import isotopomerAnalysis\n",
    "ia = isotopomerAnalysis.IsotopomerAnalysis()\n",
    "ia.read_hsqc_multiplets('/Volumes/Users/ludwigc/Documents/hsqcMultiplets.xlsx')\n",
    "ia.read_nmr1d_data('/Volumes/Users/ludwigc/Documents/nmr1Ddata.xlsx')\n",
    "ia.read_gcms_data('/Volumes/Users/ludwigc/Documents/gcmsData.xlsx')\n",
    "ia.fit_isotopomers = [[0, 1, 1], [0, 0, 1]]"
   ],
   "metadata": {
    "collapsed": false,
    "pycharm": {
     "name": "#%%\n"
    }
   }
  },
  {
   "cell_type": "code",
   "execution_count": 2,
   "outputs": [],
   "source": [
    "dd=[[0,0,0]]\n",
    "for k in range(len(ia.fit_isotopomers)):\n",
    "    dd.append(ia.fit_isotopomers[k])"
   ],
   "metadata": {
    "collapsed": false,
    "pycharm": {
     "name": "#%%\n"
    }
   }
  },
  {
   "cell_type": "code",
   "execution_count": 3,
   "outputs": [
    {
     "data": {
      "text/plain": "[[0, 0, 0], [0, 1, 1], [0, 0, 1]]"
     },
     "execution_count": 3,
     "metadata": {},
     "output_type": "execute_result"
    }
   ],
   "source": [
    "dd"
   ],
   "metadata": {
    "collapsed": false,
    "pycharm": {
     "name": "#%%\n"
    }
   }
  },
  {
   "cell_type": "code",
   "execution_count": 4,
   "id": "cef414b5",
   "metadata": {
    "pycharm": {
     "name": "#%%\n"
    }
   },
   "outputs": [
    {
     "data": {
      "text/plain": "['__class__',\n '__delattr__',\n '__dict__',\n '__dir__',\n '__doc__',\n '__eq__',\n '__format__',\n '__ge__',\n '__getattribute__',\n '__getstate__',\n '__gt__',\n '__hash__',\n '__init__',\n '__init_subclass__',\n '__le__',\n '__lt__',\n '__module__',\n '__ne__',\n '__new__',\n '__reduce__',\n '__reduce_ex__',\n '__repr__',\n '__setattr__',\n '__sizeof__',\n '__str__',\n '__subclasshook__',\n '__weakref__',\n 'fit_isotopomers',\n 'gcms_data',\n 'gcms_scaling',\n 'hsqc_scaling',\n 'lcms_data',\n 'lcms_scaling',\n 'metabolites',\n 'n_exps',\n 'nat_abundance',\n 'nmr_1d_data',\n 'nmr_multiplets',\n 'nmr_tocsy_multiplets',\n 'read_gcms_data',\n 'read_hsqc_multiplets',\n 'read_nmr1d_data',\n 'set_fit_isotopomers',\n 'set_gcms_isotopomers',\n 'set_hsqc_isotopomers',\n 'tocsy_scaling',\n 'ver']"
     },
     "execution_count": 4,
     "metadata": {},
     "output_type": "execute_result"
    }
   ],
   "source": [
    "dir(ia)"
   ]
  },
  {
   "cell_type": "code",
   "execution_count": 5,
   "outputs": [
    {
     "data": {
      "text/plain": "'0.8.12'"
     },
     "execution_count": 5,
     "metadata": {},
     "output_type": "execute_result"
    }
   ],
   "source": [
    "ia.ver"
   ],
   "metadata": {
    "collapsed": false,
    "pycharm": {
     "name": "#%%\n"
    }
   }
  },
  {
   "cell_type": "code",
   "execution_count": null,
   "outputs": [],
   "source": [],
   "metadata": {
    "collapsed": false,
    "pycharm": {
     "name": "#%%\n"
    }
   }
  }
 ],
 "metadata": {
  "kernelspec": {
   "display_name": "Python 3 (ipykernel)",
   "language": "python",
   "name": "python3"
  },
  "language_info": {
   "codemirror_mode": {
    "name": "ipython",
    "version": 3
   },
   "file_extension": ".py",
   "mimetype": "text/x-python",
   "name": "python",
   "nbconvert_exporter": "python",
   "pygments_lexer": "ipython3",
   "version": "3.11.3"
  }
 },
 "nbformat": 4,
 "nbformat_minor": 5
}
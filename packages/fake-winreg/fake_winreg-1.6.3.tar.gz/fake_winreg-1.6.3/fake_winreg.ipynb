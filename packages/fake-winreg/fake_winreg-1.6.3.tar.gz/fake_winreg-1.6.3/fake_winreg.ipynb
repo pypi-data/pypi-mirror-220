{
 "cells": [
  {
   "metadata": {
    "pycharm": {
     "name": "#%%\n"
    },
    "trusted": false
   },
   "cell_type": "code",
   "source": [
    "# update pip and setuptools\n",
    "import sys\n",
    "!{sys.executable} -m pip install --upgrade pip\n",
    "!{sys.executable} -m pip install --upgrade setuptools\n",
    "\n",
    "# install fake_winreg from pypi\n",
    "!{sys.executable} -m pip install --upgrade fake_winreg\n",
    "\n",
    "# install fake_winreg from github\n",
    "!{sys.executable} -m pip install --upgrade git+https://github.com/bitranox/fake_winreg.git"
   ],
   "execution_count": null,
   "outputs": []
  },
  {
   "metadata": {
    "pycharm": {
     "name": "#%%\n"
    },
    "trusted": false
   },
   "cell_type": "code",
   "source": [
    "# import\n",
    "import fake_winreg as winreg\n"
   ],
   "execution_count": null,
   "outputs": []
  },
  {
   "metadata": {
    "pycharm": {
     "name": "#%%\n"
    },
    "trusted": false
   },
   "cell_type": "code",
   "source": [
    "# setup a fake registry for windows\n",
    "fake_registry = winreg.fake_reg_tools.get_minimal_windows_testregistry()\n",
    "\n",
    "# load the fake registry into fake winreg\n",
    "winreg.load_fake_registry(fake_registry)\n"
   ],
   "execution_count": null,
   "outputs": []
  },
  {
   "metadata": {
    "pycharm": {
     "name": "#%%\n"
    },
    "trusted": false
   },
   "cell_type": "code",
   "source": [
    "# try the fake registry\n",
    "reg_handle = winreg.ConnectRegistry(None, winreg.HKEY_LOCAL_MACHINE)\n",
    "# Open Key\n",
    "reg_key = winreg.OpenKey(reg_handle, r'SOFTWARE\\Microsoft\\Windows NT\\CurrentVersion')\n",
    "winreg.QueryValueEx(reg_key, 'CurrentBuild')"
   ],
   "execution_count": null,
   "outputs": []
  }
 ],
 "metadata": {
  "language_info": {
   "name": "python",
   "version": "3.7.6",
   "mimetype": "text/x-python",
   "codemirror_mode": {
    "name": "ipython",
    "version": 3
   },
   "pygments_lexer": "ipython3",
   "nbconvert_exporter": "python",
   "file_extension": ".py"
  },
  "kernelspec": {
   "name": "python3",
   "display_name": "Python 3",
   "language": "python"
  }
 },
 "nbformat": 4,
 "nbformat_minor": 4
}
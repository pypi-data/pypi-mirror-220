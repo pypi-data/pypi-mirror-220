{
 "cells": [
  {
   "attachments": {},
   "cell_type": "markdown",
   "metadata": {},
   "source": []
  },
  {
   "cell_type": "code",
   "execution_count": 1,
   "metadata": {},
   "outputs": [
    {
     "name": "stdout",
     "output_type": "stream",
     "text": [
      "/home/ubuntu/plotano/plotano\n"
     ]
    }
   ],
   "source": [
    "%reload_ext autoreload\n",
    "%autoreload 2\n",
    "\n",
    "import os\n",
    "import sys\n",
    "\n",
    "# Add the root folder to the module search path\n",
    "root_folder = os.path.dirname(os.getcwd())\n",
    "sys.path.append(root_folder)\n",
    "print(os.getcwd())"
   ]
  },
  {
   "cell_type": "code",
   "execution_count": 5,
   "metadata": {},
   "outputs": [
    {
     "name": "stdout",
     "output_type": "stream",
     "text": [
      "('ID', 'Question', 'Up Ranking Answer', 'Low Ranking Answer')\n"
     ]
    }
   ],
   "source": [
    "from plotano.db.ranking_database import (\n",
    "    RankingDatabase, \n",
    "    RANKING_CSV_HEADER, \n",
    "    RANKING_CSV_HEADER_UP_RANKING_ANSWER,\n",
    "    RANKING_CSV_HEADER_LOW_RANKING_ANSWER\n",
    ")\n",
    "\n",
    "print(RANKING_CSV_HEADER)"
   ]
  },
  {
   "attachments": {},
   "cell_type": "markdown",
   "metadata": {},
   "source": [
    "### Load a dataset\n",
    "\n",
    "`wget` the sample data from https://huggingface.co/datasets/lvwerra/stack-exchange-paired/tree/main/data/reward"
   ]
  },
  {
   "cell_type": "code",
   "execution_count": 3,
   "metadata": {},
   "outputs": [
    {
     "data": {
      "text/html": [
       "<div>\n",
       "<style scoped>\n",
       "    .dataframe tbody tr th:only-of-type {\n",
       "        vertical-align: middle;\n",
       "    }\n",
       "\n",
       "    .dataframe tbody tr th {\n",
       "        vertical-align: top;\n",
       "    }\n",
       "\n",
       "    .dataframe thead th {\n",
       "        text-align: right;\n",
       "    }\n",
       "</style>\n",
       "<table border=\"1\" class=\"dataframe\">\n",
       "  <thead>\n",
       "    <tr style=\"text-align: right;\">\n",
       "      <th></th>\n",
       "      <th>qid</th>\n",
       "      <th>question</th>\n",
       "      <th>date</th>\n",
       "      <th>metadata</th>\n",
       "      <th>response_j</th>\n",
       "      <th>response_k</th>\n",
       "    </tr>\n",
       "  </thead>\n",
       "  <tbody>\n",
       "    <tr>\n",
       "      <th>0</th>\n",
       "      <td>538868</td>\n",
       "      <td>I have a question to those who are really prof...</td>\n",
       "      <td>2020/03/27</td>\n",
       "      <td>[https://physics.stackexchange.com/questions/5...</td>\n",
       "      <td>In the absence of a magnetic field the velocit...</td>\n",
       "      <td>Can MHD work on \"cold plasma\"? Is there any ef...</td>\n",
       "    </tr>\n",
       "    <tr>\n",
       "      <th>1</th>\n",
       "      <td>3665283</td>\n",
       "      <td>When looking at dI/dt we have a term gamma\\*I,...</td>\n",
       "      <td>2020/05/08</td>\n",
       "      <td>[https://math.stackexchange.com/questions/3665...</td>\n",
       "      <td>If we have $I$ infected people and the recover...</td>\n",
       "      <td>Imagine a situation where each infected indivi...</td>\n",
       "    </tr>\n",
       "    <tr>\n",
       "      <th>2</th>\n",
       "      <td>3665283</td>\n",
       "      <td>When looking at dI/dt we have a term gamma\\*I,...</td>\n",
       "      <td>2020/05/08</td>\n",
       "      <td>[https://math.stackexchange.com/questions/3665...</td>\n",
       "      <td>If we have $I$ infected people and the recover...</td>\n",
       "      <td>The others have addressed the question, I just...</td>\n",
       "    </tr>\n",
       "    <tr>\n",
       "      <th>3</th>\n",
       "      <td>3665283</td>\n",
       "      <td>When looking at dI/dt we have a term gamma\\*I,...</td>\n",
       "      <td>2020/05/08</td>\n",
       "      <td>[https://math.stackexchange.com/questions/3665...</td>\n",
       "      <td>Imagine a situation where each infected indivi...</td>\n",
       "      <td>The others have addressed the question, I just...</td>\n",
       "    </tr>\n",
       "    <tr>\n",
       "      <th>4</th>\n",
       "      <td>32965609</td>\n",
       "      <td>I have a setup where I use a service to log a ...</td>\n",
       "      <td>2015/10/06</td>\n",
       "      <td>[https://Stackoverflow.com/questions/32965609,...</td>\n",
       "      <td>In your code, if there is no user logged in (s...</td>\n",
       "      <td>My current work-around is creating an other Sa...</td>\n",
       "    </tr>\n",
       "  </tbody>\n",
       "</table>\n",
       "</div>"
      ],
      "text/plain": [
       "        qid                                           question        date  \\\n",
       "0    538868  I have a question to those who are really prof...  2020/03/27   \n",
       "1   3665283  When looking at dI/dt we have a term gamma\\*I,...  2020/05/08   \n",
       "2   3665283  When looking at dI/dt we have a term gamma\\*I,...  2020/05/08   \n",
       "3   3665283  When looking at dI/dt we have a term gamma\\*I,...  2020/05/08   \n",
       "4  32965609  I have a setup where I use a service to log a ...  2015/10/06   \n",
       "\n",
       "                                            metadata  \\\n",
       "0  [https://physics.stackexchange.com/questions/5...   \n",
       "1  [https://math.stackexchange.com/questions/3665...   \n",
       "2  [https://math.stackexchange.com/questions/3665...   \n",
       "3  [https://math.stackexchange.com/questions/3665...   \n",
       "4  [https://Stackoverflow.com/questions/32965609,...   \n",
       "\n",
       "                                          response_j  \\\n",
       "0  In the absence of a magnetic field the velocit...   \n",
       "1  If we have $I$ infected people and the recover...   \n",
       "2  If we have $I$ infected people and the recover...   \n",
       "3  Imagine a situation where each infected indivi...   \n",
       "4  In your code, if there is no user logged in (s...   \n",
       "\n",
       "                                          response_k  \n",
       "0  Can MHD work on \"cold plasma\"? Is there any ef...  \n",
       "1  Imagine a situation where each infected indivi...  \n",
       "2  The others have addressed the question, I just...  \n",
       "3  The others have addressed the question, I just...  \n",
       "4  My current work-around is creating an other Sa...  "
      ]
     },
     "execution_count": 3,
     "metadata": {},
     "output_type": "execute_result"
    }
   ],
   "source": [
    "import pandas as pd\n",
    "\n",
    "stackoverflow_dataset = pd.read_parquet('/home/ubuntu/datasets/reward-train-00000-of-00020.parquet', engine='fastparquet', index=False)\n",
    "stackoverflow_dataset.head()"
   ]
  },
  {
   "cell_type": "code",
   "execution_count": 4,
   "metadata": {},
   "outputs": [
    {
     "data": {
      "text/html": [
       "<div>\n",
       "<style scoped>\n",
       "    .dataframe tbody tr th:only-of-type {\n",
       "        vertical-align: middle;\n",
       "    }\n",
       "\n",
       "    .dataframe tbody tr th {\n",
       "        vertical-align: top;\n",
       "    }\n",
       "\n",
       "    .dataframe thead th {\n",
       "        text-align: right;\n",
       "    }\n",
       "</style>\n",
       "<table border=\"1\" class=\"dataframe\">\n",
       "  <thead>\n",
       "    <tr style=\"text-align: right;\">\n",
       "      <th></th>\n",
       "      <th>qid</th>\n",
       "      <th>question</th>\n",
       "      <th>response_j</th>\n",
       "      <th>response_k</th>\n",
       "    </tr>\n",
       "  </thead>\n",
       "  <tbody>\n",
       "    <tr>\n",
       "      <th>0</th>\n",
       "      <td>538868</td>\n",
       "      <td>I have a question to those who are really prof...</td>\n",
       "      <td>In the absence of a magnetic field the velocit...</td>\n",
       "      <td>Can MHD work on \"cold plasma\"? Is there any ef...</td>\n",
       "    </tr>\n",
       "    <tr>\n",
       "      <th>1</th>\n",
       "      <td>3665283</td>\n",
       "      <td>When looking at dI/dt we have a term gamma\\*I,...</td>\n",
       "      <td>If we have $I$ infected people and the recover...</td>\n",
       "      <td>Imagine a situation where each infected indivi...</td>\n",
       "    </tr>\n",
       "    <tr>\n",
       "      <th>2</th>\n",
       "      <td>3665283</td>\n",
       "      <td>When looking at dI/dt we have a term gamma\\*I,...</td>\n",
       "      <td>If we have $I$ infected people and the recover...</td>\n",
       "      <td>The others have addressed the question, I just...</td>\n",
       "    </tr>\n",
       "    <tr>\n",
       "      <th>3</th>\n",
       "      <td>3665283</td>\n",
       "      <td>When looking at dI/dt we have a term gamma\\*I,...</td>\n",
       "      <td>Imagine a situation where each infected indivi...</td>\n",
       "      <td>The others have addressed the question, I just...</td>\n",
       "    </tr>\n",
       "    <tr>\n",
       "      <th>4</th>\n",
       "      <td>32965609</td>\n",
       "      <td>I have a setup where I use a service to log a ...</td>\n",
       "      <td>In your code, if there is no user logged in (s...</td>\n",
       "      <td>My current work-around is creating an other Sa...</td>\n",
       "    </tr>\n",
       "  </tbody>\n",
       "</table>\n",
       "</div>"
      ],
      "text/plain": [
       "        qid                                           question  \\\n",
       "0    538868  I have a question to those who are really prof...   \n",
       "1   3665283  When looking at dI/dt we have a term gamma\\*I,...   \n",
       "2   3665283  When looking at dI/dt we have a term gamma\\*I,...   \n",
       "3   3665283  When looking at dI/dt we have a term gamma\\*I,...   \n",
       "4  32965609  I have a setup where I use a service to log a ...   \n",
       "\n",
       "                                          response_j  \\\n",
       "0  In the absence of a magnetic field the velocit...   \n",
       "1  If we have $I$ infected people and the recover...   \n",
       "2  If we have $I$ infected people and the recover...   \n",
       "3  Imagine a situation where each infected indivi...   \n",
       "4  In your code, if there is no user logged in (s...   \n",
       "\n",
       "                                          response_k  \n",
       "0  Can MHD work on \"cold plasma\"? Is there any ef...  \n",
       "1  Imagine a situation where each infected indivi...  \n",
       "2  The others have addressed the question, I just...  \n",
       "3  The others have addressed the question, I just...  \n",
       "4  My current work-around is creating an other Sa...  "
      ]
     },
     "execution_count": 4,
     "metadata": {},
     "output_type": "execute_result"
    }
   ],
   "source": [
    "my_stackoverflow_dataset = stackoverflow_dataset[['qid', 'question', 'response_j', 'response_k']]\n",
    "my_stackoverflow_dataset.head()"
   ]
  },
  {
   "cell_type": "code",
   "execution_count": 5,
   "metadata": {},
   "outputs": [
    {
     "data": {
      "text/html": [
       "<div>\n",
       "<style scoped>\n",
       "    .dataframe tbody tr th:only-of-type {\n",
       "        vertical-align: middle;\n",
       "    }\n",
       "\n",
       "    .dataframe tbody tr th {\n",
       "        vertical-align: top;\n",
       "    }\n",
       "\n",
       "    .dataframe thead th {\n",
       "        text-align: right;\n",
       "    }\n",
       "</style>\n",
       "<table border=\"1\" class=\"dataframe\">\n",
       "  <thead>\n",
       "    <tr style=\"text-align: right;\">\n",
       "      <th></th>\n",
       "      <th>ID</th>\n",
       "      <th>Question</th>\n",
       "      <th>Up Ranking Answer</th>\n",
       "      <th>Low Ranking Answer</th>\n",
       "    </tr>\n",
       "  </thead>\n",
       "  <tbody>\n",
       "    <tr>\n",
       "      <th>0</th>\n",
       "      <td>538868</td>\n",
       "      <td>I have a question to those who are really prof...</td>\n",
       "      <td>In the absence of a magnetic field the velocit...</td>\n",
       "      <td>Can MHD work on \"cold plasma\"? Is there any ef...</td>\n",
       "    </tr>\n",
       "    <tr>\n",
       "      <th>1</th>\n",
       "      <td>3665283</td>\n",
       "      <td>When looking at dI/dt we have a term gamma\\*I,...</td>\n",
       "      <td>If we have $I$ infected people and the recover...</td>\n",
       "      <td>Imagine a situation where each infected indivi...</td>\n",
       "    </tr>\n",
       "    <tr>\n",
       "      <th>2</th>\n",
       "      <td>3665283</td>\n",
       "      <td>When looking at dI/dt we have a term gamma\\*I,...</td>\n",
       "      <td>If we have $I$ infected people and the recover...</td>\n",
       "      <td>The others have addressed the question, I just...</td>\n",
       "    </tr>\n",
       "    <tr>\n",
       "      <th>3</th>\n",
       "      <td>3665283</td>\n",
       "      <td>When looking at dI/dt we have a term gamma\\*I,...</td>\n",
       "      <td>Imagine a situation where each infected indivi...</td>\n",
       "      <td>The others have addressed the question, I just...</td>\n",
       "    </tr>\n",
       "    <tr>\n",
       "      <th>4</th>\n",
       "      <td>32965609</td>\n",
       "      <td>I have a setup where I use a service to log a ...</td>\n",
       "      <td>In your code, if there is no user logged in (s...</td>\n",
       "      <td>My current work-around is creating an other Sa...</td>\n",
       "    </tr>\n",
       "  </tbody>\n",
       "</table>\n",
       "</div>"
      ],
      "text/plain": [
       "         ID                                           Question  \\\n",
       "0    538868  I have a question to those who are really prof...   \n",
       "1   3665283  When looking at dI/dt we have a term gamma\\*I,...   \n",
       "2   3665283  When looking at dI/dt we have a term gamma\\*I,...   \n",
       "3   3665283  When looking at dI/dt we have a term gamma\\*I,...   \n",
       "4  32965609  I have a setup where I use a service to log a ...   \n",
       "\n",
       "                                   Up Ranking Answer  \\\n",
       "0  In the absence of a magnetic field the velocit...   \n",
       "1  If we have $I$ infected people and the recover...   \n",
       "2  If we have $I$ infected people and the recover...   \n",
       "3  Imagine a situation where each infected indivi...   \n",
       "4  In your code, if there is no user logged in (s...   \n",
       "\n",
       "                                  Low Ranking Answer  \n",
       "0  Can MHD work on \"cold plasma\"? Is there any ef...  \n",
       "1  Imagine a situation where each infected indivi...  \n",
       "2  The others have addressed the question, I just...  \n",
       "3  The others have addressed the question, I just...  \n",
       "4  My current work-around is creating an other Sa...  "
      ]
     },
     "execution_count": 5,
     "metadata": {},
     "output_type": "execute_result"
    }
   ],
   "source": [
    "my_stackoverflow_dataset.columns = RANKING_CSV_HEADER\n",
    "my_stackoverflow_dataset.head()"
   ]
  },
  {
   "cell_type": "code",
   "execution_count": 6,
   "metadata": {},
   "outputs": [
    {
     "data": {
      "text/plain": [
       "[{'ID': 538868,\n",
       "  'Question': \"I have a question to those who are really proficient in MHD generation. There exist some claims that degree of interaction between flowing molecules (gases) and ions on one hand and flowing molecules (gases) and electrons on other hand is vastly different. Therefore movement of ions in a gas flow will occur much faster than movement of free electrons. If this is correct then why we need to use a strong magnets to separate ions and electrons in MHD generator? If speed of the ions and electrons movement in the same gas flow is vastly different then doesn't charge separation suppose to occur by itself just due to a gas flow? Shouldn't majority of electrons concentrate at the beginning of the duct while many more ions at the end? Then only thing we need to generate current is to put an electrode at the beginning of the duct and another one at the end and let electrons flow from the inside of the duct through the external load to the end of the duct and recombine with ions there? And no need for a magnets.\",\n",
       "  'Up Ranking Answer': 'In the absence of a magnetic field the velocity of the ions and electrons in a gas will be on average exactly that of the gas.\\nno net charge will be transferred.\\n\\nThe magnetic field is needed to make the charged particles move differently to the fluid and to separate based on their charge between the electrodes.\\n\\nMHD works basically the same as a homopolar generator except that the rotor is replaced with a conductive fluid',\n",
       "  'Low Ranking Answer': 'Can MHD work on \"cold plasma\"? Is there any efficient and technically feasible ways to create a lot of cold plasma in water vapor for example (which is a one of main component of combustion exhaust)? What about electric discharges or some radiation (lasers, microwaves)? What about dissociating water vapor to ions rater than ionizing it? May it require smaller amount of energy? There are claims that 1% of water vapor are ions at 2500 C. Could electric discharges significantly increase number of positive and negative ions?'},\n",
       " {'ID': 3665283,\n",
       "  'Question': 'When looking at dI/dt we have a term gamma\\\\*I, this is the rate in which infectious become recovered. \\n\\nWhy is this dependent on I, the number of infectious people?\\n\\nSince if you have lots infectious people, wont it take the same amount of time for them to recover as a smaller group of people? So this rate should be a constant?\\n\\n[![enter image description here](https://i.stack.imgur.com/G9Wsz.png)](https://i.stack.imgur.com/G9Wsz.png)',\n",
       "  'Up Ranking Answer': \"If we have $I$ infected people and the recovery rate of the disease is $\\\\gamma$, then in one time cycle, $\\\\gamma I$ people recover from the infection. The time required for these people to recover is constant; it's just that due to more number of people being infected, more number of people will also recover from the disease in a given duration of time.\",\n",
       "  'Low Ranking Answer': 'Imagine a situation where each infected individual recovered in one day. So when you have $10$ infected individuals you have $10$ recoveries in one day. But when you have $100$ infected, you have $100$ recoveries in one day. The number of recoveries per day \\nis proportional to the number of infected individuals.'},\n",
       " {'ID': 3665283,\n",
       "  'Question': 'When looking at dI/dt we have a term gamma\\\\*I, this is the rate in which infectious become recovered. \\n\\nWhy is this dependent on I, the number of infectious people?\\n\\nSince if you have lots infectious people, wont it take the same amount of time for them to recover as a smaller group of people? So this rate should be a constant?\\n\\n[![enter image description here](https://i.stack.imgur.com/G9Wsz.png)](https://i.stack.imgur.com/G9Wsz.png)',\n",
       "  'Up Ranking Answer': \"If we have $I$ infected people and the recovery rate of the disease is $\\\\gamma$, then in one time cycle, $\\\\gamma I$ people recover from the infection. The time required for these people to recover is constant; it's just that due to more number of people being infected, more number of people will also recover from the disease in a given duration of time.\",\n",
       "  'Low Ranking Answer': 'The others have addressed the question, I just want to add to other answers. The term $1/\\\\delta$ reflects the expected (or average) time an infected individual spend being infected. For example, for Covid-19, the expected time for a person to be infected is about 2-3 weeks. This is how you could estimate this rate, by setting 2-3 wks = $1/\\\\delta$, then solve for $\\\\delta$. This is all a consequence of exponential rates in differential equations (e.g. not realistic at all in the long term).'}]"
      ]
     },
     "execution_count": 6,
     "metadata": {},
     "output_type": "execute_result"
    }
   ],
   "source": [
    "my_stackoverflow_dataset.to_dict('records')[:3]"
   ]
  },
  {
   "cell_type": "markdown",
   "metadata": {},
   "source": [
    "### Load csv to the Ranking DB"
   ]
  },
  {
   "cell_type": "code",
   "execution_count": 10,
   "metadata": {},
   "outputs": [],
   "source": [
    "\n",
    "db = RankingDatabase(debug=False)"
   ]
  },
  {
   "cell_type": "code",
   "execution_count": 11,
   "metadata": {},
   "outputs": [],
   "source": [
    "db.create_table()"
   ]
  },
  {
   "cell_type": "code",
   "execution_count": 12,
   "metadata": {},
   "outputs": [
    {
     "name": "stdout",
     "output_type": "stream",
     "text": [
      "Up Ranking Answer\n",
      "Low Ranking Answer\n"
     ]
    }
   ],
   "source": [
    "print(RANKING_CSV_HEADER_UP_RANKING_ANSWER)\n",
    "print(RANKING_CSV_HEADER_LOW_RANKING_ANSWER)"
   ]
  },
  {
   "cell_type": "code",
   "execution_count": 14,
   "metadata": {},
   "outputs": [],
   "source": [
    "for row in my_stackoverflow_dataset.head(100).to_dict('records'):\n",
    "    db.insert_ranking(question=row['Question'],\n",
    "                      up_ranking_answer=row[RANKING_CSV_HEADER_UP_RANKING_ANSWER],\n",
    "                      low_ranking_answer=row[RANKING_CSV_HEADER_LOW_RANKING_ANSWER])"
   ]
  },
  {
   "cell_type": "code",
   "execution_count": 15,
   "metadata": {},
   "outputs": [
    {
     "data": {
      "text/plain": [
       "[(1,\n",
       "  \"I have a question to those who are really proficient in MHD generation. There exist some claims that degree of interaction between flowing molecules (gases) and ions on one hand and flowing molecules (gases) and electrons on other hand is vastly different. Therefore movement of ions in a gas flow will occur much faster than movement of free electrons. If this is correct then why we need to use a strong magnets to separate ions and electrons in MHD generator? If speed of the ions and electrons movement in the same gas flow is vastly different then doesn't charge separation suppose to occur by itself just due to a gas flow? Shouldn't majority of electrons concentrate at the beginning of the duct while many more ions at the end? Then only thing we need to generate current is to put an electrode at the beginning of the duct and another one at the end and let electrons flow from the inside of the duct through the external load to the end of the duct and recombine with ions there? And no need for a magnets.\",\n",
       "  'In the absence of a magnetic field the velocity of the ions and electrons in a gas will be on average exactly that of the gas.\\nno net charge will be transferred.\\n\\nThe magnetic field is needed to make the charged particles move differently to the fluid and to separate based on their charge between the electrodes.\\n\\nMHD works basically the same as a homopolar generator except that the rotor is replaced with a conductive fluid',\n",
       "  'Can MHD work on \"cold plasma\"? Is there any efficient and technically feasible ways to create a lot of cold plasma in water vapor for example (which is a one of main component of combustion exhaust)? What about electric discharges or some radiation (lasers, microwaves)? What about dissociating water vapor to ions rater than ionizing it? May it require smaller amount of energy? There are claims that 1% of water vapor are ions at 2500 C. Could electric discharges significantly increase number of positive and negative ions?'),\n",
       " (2,\n",
       "  'When looking at dI/dt we have a term gamma\\\\*I, this is the rate in which infectious become recovered. \\n\\nWhy is this dependent on I, the number of infectious people?\\n\\nSince if you have lots infectious people, wont it take the same amount of time for them to recover as a smaller group of people? So this rate should be a constant?\\n\\n[![enter image description here](https://i.stack.imgur.com/G9Wsz.png)](https://i.stack.imgur.com/G9Wsz.png)',\n",
       "  \"If we have $I$ infected people and the recovery rate of the disease is $\\\\gamma$, then in one time cycle, $\\\\gamma I$ people recover from the infection. The time required for these people to recover is constant; it's just that due to more number of people being infected, more number of people will also recover from the disease in a given duration of time.\",\n",
       "  'Imagine a situation where each infected individual recovered in one day. So when you have $10$ infected individuals you have $10$ recoveries in one day. But when you have $100$ infected, you have $100$ recoveries in one day. The number of recoveries per day \\nis proportional to the number of infected individuals.'),\n",
       " (3,\n",
       "  'When looking at dI/dt we have a term gamma\\\\*I, this is the rate in which infectious become recovered. \\n\\nWhy is this dependent on I, the number of infectious people?\\n\\nSince if you have lots infectious people, wont it take the same amount of time for them to recover as a smaller group of people? So this rate should be a constant?\\n\\n[![enter image description here](https://i.stack.imgur.com/G9Wsz.png)](https://i.stack.imgur.com/G9Wsz.png)',\n",
       "  \"If we have $I$ infected people and the recovery rate of the disease is $\\\\gamma$, then in one time cycle, $\\\\gamma I$ people recover from the infection. The time required for these people to recover is constant; it's just that due to more number of people being infected, more number of people will also recover from the disease in a given duration of time.\",\n",
       "  'The others have addressed the question, I just want to add to other answers. The term $1/\\\\delta$ reflects the expected (or average) time an infected individual spend being infected. For example, for Covid-19, the expected time for a person to be infected is about 2-3 weeks. This is how you could estimate this rate, by setting 2-3 wks = $1/\\\\delta$, then solve for $\\\\delta$. This is all a consequence of exponential rates in differential equations (e.g. not realistic at all in the long term).')]"
      ]
     },
     "execution_count": 15,
     "metadata": {},
     "output_type": "execute_result"
    }
   ],
   "source": [
    "my_ranking_data = db.retrieve_all_question_answers()\n",
    "my_ranking_data[:3]"
   ]
  },
  {
   "cell_type": "code",
   "execution_count": 2,
   "metadata": {},
   "outputs": [],
   "source": [
    "my_ranking_sql_data_path = 'my_ranking_data.csv'\n"
   ]
  },
  {
   "cell_type": "code",
   "execution_count": 16,
   "metadata": {},
   "outputs": [],
   "source": [
    "import csv\n",
    "\n",
    "\n",
    "with open(my_ranking_sql_data_path, 'w', newline='') as file:\n",
    "    writer = csv.writer(file)\n",
    "    writer.writerow(RANKING_CSV_HEADER)\n",
    "    writer.writerows(my_ranking_data)"
   ]
  },
  {
   "cell_type": "code",
   "execution_count": 17,
   "metadata": {},
   "outputs": [],
   "source": [
    "db.close_connection()"
   ]
  },
  {
   "attachments": {},
   "cell_type": "markdown",
   "metadata": {},
   "source": [
    "### Load to huggingface"
   ]
  },
  {
   "cell_type": "code",
   "execution_count": 3,
   "metadata": {},
   "outputs": [
    {
     "name": "stderr",
     "output_type": "stream",
     "text": [
      "/opt/conda/envs/trl/lib/python3.10/site-packages/tqdm/auto.py:21: TqdmWarning: IProgress not found. Please update jupyter and ipywidgets. See https://ipywidgets.readthedocs.io/en/stable/user_install.html\n",
      "  from .autonotebook import tqdm as notebook_tqdm\n",
      "Found cached dataset csv (/home/ubuntu/.cache/huggingface/datasets/csv/default-331cd4c59f87e105/0.0.0/eea64c71ca8b46dd3f537ed218fc9bf495d5707789152eb2764f5c78fa66d59d)\n",
      "100%|██████████| 1/1 [00:00<00:00, 758.74it/s]\n"
     ]
    }
   ],
   "source": [
    "from datasets import load_dataset\n",
    "ds = load_dataset('csv', data_files=my_ranking_sql_data_path)"
   ]
  },
  {
   "attachments": {},
   "cell_type": "markdown",
   "metadata": {},
   "source": [
    "### Test RLHF code with DB"
   ]
  },
  {
   "cell_type": "code",
   "execution_count": 4,
   "metadata": {},
   "outputs": [
    {
     "name": "stdout",
     "output_type": "stream",
     "text": [
      "[2023-07-20 23:08:03,796] [INFO] [real_accelerator.py:110:get_accelerator] Setting ds_accelerator to cuda (auto detect)\n",
      "\n",
      "===================================BUG REPORT===================================\n",
      "Welcome to bitsandbytes. For bug reports, please run\n",
      "\n",
      "python -m bitsandbytes\n",
      "\n",
      " and submit this information together with your error trace to: https://github.com/TimDettmers/bitsandbytes/issues\n",
      "================================================================================\n",
      "bin /opt/conda/envs/trl/lib/python3.10/site-packages/bitsandbytes/libbitsandbytes_cuda118.so\n",
      "CUDA SETUP: CUDA runtime path found: /usr/local/cuda/targets/x86_64-linux/lib/libcudart.so.11.0\n",
      "CUDA SETUP: Highest compute capability among GPUs detected: 8.6\n",
      "CUDA SETUP: Detected CUDA version 118\n",
      "CUDA SETUP: Loading binary /opt/conda/envs/trl/lib/python3.10/site-packages/bitsandbytes/libbitsandbytes_cuda118.so...\n"
     ]
    },
    {
     "name": "stderr",
     "output_type": "stream",
     "text": [
      "/opt/conda/envs/trl/lib/python3.10/site-packages/bitsandbytes/cuda_setup/main.py:149: UserWarning: /opt/conda/envs/trl did not contain ['libcudart.so', 'libcudart.so.11.0', 'libcudart.so.12.0'] as expected! Searching further paths...\n",
      "  warn(msg)\n"
     ]
    }
   ],
   "source": [
    "from plotano.rlhf.rlhf import RLHFConfig\n",
    "\n",
    "\n",
    "config = RLHFConfig(\n",
    "    base_model_path=\"meta-llama/Llama-2-7b-hf\", ## \"elinas/llama-7b-hf-transformers-4.29\",\n",
    "    reward_model_path=\"databricks/dolly-v2-3b\", \n",
    "    dataset_type=\"csv\", ## \"huggingface\", ## \n",
    "    dataset_name=\"/home/ubuntu/plotano/plotano/my_ranking_data.csv\",\n",
    "    reward_epochs=3,\n",
    "    output_dir=\"../rlhf_tests/\",\n",
    "    reward_num_of_data=1000,\n",
    ")\n"
   ]
  },
  {
   "cell_type": "code",
   "execution_count": 5,
   "metadata": {},
   "outputs": [
    {
     "name": "stderr",
     "output_type": "stream",
     "text": [
      "Some weights of the model checkpoint at databricks/dolly-v2-3b were not used when initializing GPTNeoXForSequenceClassification: ['embed_out.weight']\n",
      "- This IS expected if you are initializing GPTNeoXForSequenceClassification from the checkpoint of a model trained on another task or with another architecture (e.g. initializing a BertForSequenceClassification model from a BertForPreTraining model).\n",
      "- This IS NOT expected if you are initializing GPTNeoXForSequenceClassification from the checkpoint of a model that you expect to be exactly identical (initializing a BertForSequenceClassification model from a BertForSequenceClassification model).\n",
      "Some weights of GPTNeoXForSequenceClassification were not initialized from the model checkpoint at databricks/dolly-v2-3b and are newly initialized: ['score.weight']\n",
      "You should probably TRAIN this model on a down-stream task to be able to use it for predictions and inference.\n"
     ]
    },
    {
     "name": "stdout",
     "output_type": "stream",
     "text": [
      "trainable params: 5,248,000 || all params: 2,651,617,280 || trainable%: 0.19791694825582068\n"
     ]
    },
    {
     "name": "stderr",
     "output_type": "stream",
     "text": [
      "Found cached dataset csv (/home/ubuntu/.cache/huggingface/datasets/csv/default-331cd4c59f87e105/0.0.0/eea64c71ca8b46dd3f537ed218fc9bf495d5707789152eb2764f5c78fa66d59d)\n",
      "100%|██████████| 1/1 [00:00<00:00, 894.12it/s]\n",
      "Map:   0%|          | 0/200 [00:00<?, ? examples/s]Asking to truncate to max_length but no maximum length is provided and the model has no predefined maximum length. Default to no truncation.\n",
      "                                                                  "
     ]
    },
    {
     "name": "stdout",
     "output_type": "stream",
     "text": [
      "Size of the train set: 113.               Size of the validation set: 13\n"
     ]
    },
    {
     "name": "stderr",
     "output_type": "stream",
     "text": [
      "\r"
     ]
    }
   ],
   "source": [
    "from plotano.rlhf.rlhf import  RewardTrainer\n",
    "\n",
    "rlhf_step2_reward_trainer = RewardTrainer(config)"
   ]
  },
  {
   "cell_type": "code",
   "execution_count": 6,
   "metadata": {},
   "outputs": [
    {
     "name": "stderr",
     "output_type": "stream",
     "text": [
      "/opt/conda/envs/trl/lib/python3.10/site-packages/transformers/optimization.py:411: FutureWarning: This implementation of AdamW is deprecated and will be removed in a future version. Use the PyTorch implementation torch.optim.AdamW instead, or set `no_deprecation_warning=True` to disable this warning\n",
      "  warnings.warn(\n",
      "You're using a GPTNeoXTokenizerFast tokenizer. Please note that with a fast tokenizer, using the `__call__` method is faster than using a method to encode the text followed by a call to the `pad` method to get a padded encoding.\n",
      "/opt/conda/envs/trl/lib/python3.10/site-packages/transformers/tokenization_utils_base.py:2395: UserWarning: `max_length` is ignored when `padding`=`True` and there is no truncation strategy. To pad to max length, use `padding='max_length'`.\n",
      "  warnings.warn(\n",
      "/opt/conda/envs/trl/lib/python3.10/site-packages/transformers/models/gpt_neox/modeling_gpt_neox.py:230: UserWarning: where received a uint8 condition tensor. This behavior is deprecated and will be removed in a future version of PyTorch. Use a boolean condition instead. (Triggered internally at ../aten/src/ATen/native/TensorCompare.cpp:493.)\n",
      "  attn_scores = torch.where(causal_mask, attn_scores, mask_value)\n",
      "Could not estimate the number of tokens of the input, floating-point operations will not be computed\n"
     ]
    },
    {
     "data": {
      "text/html": [
       "\n",
       "    <div>\n",
       "      \n",
       "      <progress value='70' max='70' style='width:300px; height:20px; vertical-align: middle;'></progress>\n",
       "      [70/70 03:40, Epoch 4/5]\n",
       "    </div>\n",
       "    <table border=\"1\" class=\"dataframe\">\n",
       "  <thead>\n",
       " <tr style=\"text-align: left;\">\n",
       "      <th>Step</th>\n",
       "      <th>Training Loss</th>\n",
       "      <th>Validation Loss</th>\n",
       "      <th>Accuracy</th>\n",
       "    </tr>\n",
       "  </thead>\n",
       "  <tbody>\n",
       "    <tr>\n",
       "      <td>10</td>\n",
       "      <td>131.925600</td>\n",
       "      <td>nan</td>\n",
       "      <td>1.000000</td>\n",
       "    </tr>\n",
       "    <tr>\n",
       "      <td>20</td>\n",
       "      <td>0.000000</td>\n",
       "      <td>nan</td>\n",
       "      <td>1.000000</td>\n",
       "    </tr>\n",
       "    <tr>\n",
       "      <td>30</td>\n",
       "      <td>0.000000</td>\n",
       "      <td>nan</td>\n",
       "      <td>1.000000</td>\n",
       "    </tr>\n",
       "    <tr>\n",
       "      <td>40</td>\n",
       "      <td>0.000000</td>\n",
       "      <td>nan</td>\n",
       "      <td>1.000000</td>\n",
       "    </tr>\n",
       "    <tr>\n",
       "      <td>50</td>\n",
       "      <td>0.000000</td>\n",
       "      <td>nan</td>\n",
       "      <td>1.000000</td>\n",
       "    </tr>\n",
       "    <tr>\n",
       "      <td>60</td>\n",
       "      <td>0.000000</td>\n",
       "      <td>nan</td>\n",
       "      <td>1.000000</td>\n",
       "    </tr>\n",
       "    <tr>\n",
       "      <td>70</td>\n",
       "      <td>0.000000</td>\n",
       "      <td>nan</td>\n",
       "      <td>1.000000</td>\n",
       "    </tr>\n",
       "  </tbody>\n",
       "</table><p>"
      ],
      "text/plain": [
       "<IPython.core.display.HTML object>"
      ]
     },
     "metadata": {},
     "output_type": "display_data"
    },
    {
     "name": "stderr",
     "output_type": "stream",
     "text": [
      "/opt/conda/envs/trl/lib/python3.10/site-packages/transformers/tokenization_utils_base.py:2395: UserWarning: `max_length` is ignored when `padding`=`True` and there is no truncation strategy. To pad to max length, use `padding='max_length'`.\n",
      "  warnings.warn(\n",
      "/opt/conda/envs/trl/lib/python3.10/site-packages/transformers/tokenization_utils_base.py:2395: UserWarning: `max_length` is ignored when `padding`=`True` and there is no truncation strategy. To pad to max length, use `padding='max_length'`.\n",
      "  warnings.warn(\n",
      "/opt/conda/envs/trl/lib/python3.10/site-packages/transformers/tokenization_utils_base.py:2395: UserWarning: `max_length` is ignored when `padding`=`True` and there is no truncation strategy. To pad to max length, use `padding='max_length'`.\n",
      "  warnings.warn(\n",
      "/opt/conda/envs/trl/lib/python3.10/site-packages/transformers/tokenization_utils_base.py:2395: UserWarning: `max_length` is ignored when `padding`=`True` and there is no truncation strategy. To pad to max length, use `padding='max_length'`.\n",
      "  warnings.warn(\n",
      "/opt/conda/envs/trl/lib/python3.10/site-packages/transformers/tokenization_utils_base.py:2395: UserWarning: `max_length` is ignored when `padding`=`True` and there is no truncation strategy. To pad to max length, use `padding='max_length'`.\n",
      "  warnings.warn(\n",
      "/opt/conda/envs/trl/lib/python3.10/site-packages/transformers/tokenization_utils_base.py:2395: UserWarning: `max_length` is ignored when `padding`=`True` and there is no truncation strategy. To pad to max length, use `padding='max_length'`.\n",
      "  warnings.warn(\n"
     ]
    }
   ],
   "source": [
    "rlhf_step2_reward_trainer.train_and_save(output_path=\"../tests/step2_07201608\")"
   ]
  },
  {
   "cell_type": "code",
   "execution_count": null,
   "metadata": {},
   "outputs": [],
   "source": []
  }
 ],
 "metadata": {
  "kernelspec": {
   "display_name": "peel",
   "language": "python",
   "name": "python3"
  },
  "language_info": {
   "codemirror_mode": {
    "name": "ipython",
    "version": 3
   },
   "file_extension": ".py",
   "mimetype": "text/x-python",
   "name": "python",
   "nbconvert_exporter": "python",
   "pygments_lexer": "ipython3",
   "version": "3.10.12"
  },
  "orig_nbformat": 4
 },
 "nbformat": 4,
 "nbformat_minor": 2
}

{
 "cells": [
  {
   "attachments": {},
   "cell_type": "markdown",
   "metadata": {},
   "source": []
  },
  {
   "cell_type": "code",
   "execution_count": 6,
   "metadata": {},
   "outputs": [
    {
     "name": "stdout",
     "output_type": "stream",
     "text": [
      "/home/ubuntu/plotano/plotano\n"
     ]
    }
   ],
   "source": [
    "%reload_ext autoreload\n",
    "%autoreload 2\n",
    "\n",
    "import os\n",
    "import sys\n",
    "\n",
    "# Add the root folder to the module search path\n",
    "root_folder = os.path.dirname(os.getcwd())\n",
    "sys.path.append(root_folder)\n",
    "print(os.getcwd())"
   ]
  },
  {
   "cell_type": "code",
   "execution_count": 7,
   "metadata": {},
   "outputs": [
    {
     "name": "stdout",
     "output_type": "stream",
     "text": [
      "('ID', 'Question', 'Answer', 'Vote Status', 'Timestamp')\n"
     ]
    }
   ],
   "source": [
    "from plotano.db.qa_database import (\n",
    "    QA_CSV_HEADER,\n",
    "    QA_CSV_HEADER_ID, \n",
    "    QA_CSV_HEADER_QUESTION, \n",
    "    QA_CSV_HEADER_ANSWER, \n",
    "    QA_CSV_HEADER_VOTE_STATUS,\n",
    "    QA_CSV_HEADER_TIMESTAMPS\n",
    ")\n",
    "\n",
    "print(QA_CSV_HEADER)"
   ]
  },
  {
   "cell_type": "code",
   "execution_count": 8,
   "metadata": {},
   "outputs": [
    {
     "name": "stdout",
     "output_type": "stream",
     "text": [
      "Table contents after creating table:\n"
     ]
    }
   ],
   "source": [
    "from plotano.db.qa_database import QuestionAnswerDatabase\n",
    "db = QuestionAnswerDatabase(\n",
    "    # db_file = \"/Users/lingjiekong/Documents/github/cambioml/plotano/plotano/db/qa.db\",\n",
    "    debug=True)"
   ]
  },
  {
   "cell_type": "code",
   "execution_count": 9,
   "metadata": {},
   "outputs": [
    {
     "name": "stdout",
     "output_type": "stream",
     "text": [
      "Table contents after creating table:\n"
     ]
    }
   ],
   "source": [
    "db.create_table()"
   ]
  },
  {
   "cell_type": "code",
   "execution_count": 10,
   "metadata": {},
   "outputs": [
    {
     "name": "stdout",
     "output_type": "stream",
     "text": [
      "Table contents after inserting table:\n",
      "ID: 1, Question: Who is Rachel?, Answer: CEO of CambioML, Vote Status: n/a, Timestamp: 2023-07-20 23:19:25.202246\n",
      "Table contents after inserting table:\n",
      "ID: 1, Question: Who is Rachel?, Answer: CEO of CambioML, Vote Status: n/a, Timestamp: 2023-07-20 23:19:25.202246\n",
      "ID: 2, Question: Who is Jared?, Answer: CTO of CambioML, Vote Status: n/a, Timestamp: 2023-07-20 23:19:25.206972\n",
      "Table contents after inserting table:\n",
      "ID: 1, Question: Who is Rachel?, Answer: CEO of CambioML, Vote Status: n/a, Timestamp: 2023-07-20 23:19:25.202246\n",
      "ID: 2, Question: Who is Jared?, Answer: CTO of CambioML, Vote Status: n/a, Timestamp: 2023-07-20 23:19:25.206972\n",
      "ID: 3, Question: Who is Kimi?, Answer: Nobody of CambioML, Vote Status: n/a, Timestamp: 2023-07-20 23:19:25.210210\n"
     ]
    }
   ],
   "source": [
    "id = db.insert_question_answer(question=\"Who is Rachel?\", answer=\"CEO of CambioML\")\n",
    "id = db.insert_question_answer(question=\"Who is Jared?\", answer=\"CTO of CambioML\")\n",
    "id = db.insert_question_answer(question=\"Who is Kimi?\", answer=\"Nobody of CambioML\")"
   ]
  },
  {
   "cell_type": "code",
   "execution_count": 11,
   "metadata": {},
   "outputs": [
    {
     "name": "stdout",
     "output_type": "stream",
     "text": [
      "Table contents after updating table:\n",
      "ID: 1, Question: Who is Rachel?, Answer: CEO of CambioML, Vote Status: up, Timestamp: 2023-07-20 23:19:25.202246\n",
      "ID: 2, Question: Who is Jared?, Answer: CTO of CambioML, Vote Status: n/a, Timestamp: 2023-07-20 23:19:25.206972\n",
      "ID: 3, Question: Who is Kimi?, Answer: Nobody of CambioML, Vote Status: n/a, Timestamp: 2023-07-20 23:19:25.210210\n",
      "Table contents after updating table:\n",
      "ID: 1, Question: Who is Rachel?, Answer: CEO of CambioML, Vote Status: up, Timestamp: 2023-07-20 23:19:25.202246\n",
      "ID: 2, Question: Who is Jared?, Answer: CTO of CambioML, Vote Status: up, Timestamp: 2023-07-20 23:19:25.206972\n",
      "ID: 3, Question: Who is Kimi?, Answer: Nobody of CambioML, Vote Status: n/a, Timestamp: 2023-07-20 23:19:25.210210\n",
      "Table contents after updating table:\n",
      "ID: 1, Question: Who is Rachel?, Answer: CEO of CambioML, Vote Status: up, Timestamp: 2023-07-20 23:19:25.202246\n",
      "ID: 2, Question: Who is Jared?, Answer: CTO of CambioML, Vote Status: up, Timestamp: 2023-07-20 23:19:25.206972\n",
      "ID: 3, Question: Who is Kimi?, Answer: Nobody of CambioML, Vote Status: down, Timestamp: 2023-07-20 23:19:25.210210\n"
     ]
    }
   ],
   "source": [
    "db.update_vote_status(id=1, vote_status=\"up\")\n",
    "db.update_vote_status(id=2, vote_status=\"up\")\n",
    "db.update_vote_status(id=3, vote_status=\"down\")"
   ]
  },
  {
   "cell_type": "code",
   "execution_count": 13,
   "metadata": {},
   "outputs": [
    {
     "data": {
      "text/plain": [
       "[(1, 'Who is Rachel?', 'CEO of CambioML', 'up', '2023-07-20 23:19:25.202246'),\n",
       " (2, 'Who is Jared?', 'CTO of CambioML', 'up', '2023-07-20 23:19:25.206972'),\n",
       " (3,\n",
       "  'Who is Kimi?',\n",
       "  'Nobody of CambioML',\n",
       "  'down',\n",
       "  '2023-07-20 23:19:25.210210')]"
      ]
     },
     "execution_count": 13,
     "metadata": {},
     "output_type": "execute_result"
    }
   ],
   "source": [
    "my_sql_data = db.retrieve_all_question_answers()\n",
    "my_sql_data"
   ]
  },
  {
   "cell_type": "code",
   "execution_count": 14,
   "metadata": {},
   "outputs": [
    {
     "name": "stdout",
     "output_type": "stream",
     "text": [
      "header: ('ID', 'Question', 'Answer', 'Vote Status', 'Timestamp')\n"
     ]
    }
   ],
   "source": [
    "from plotano.db.qa_database import QA_CSV_HEADER\n",
    "header = QA_CSV_HEADER\n",
    "print(\"header: {}\".format(QA_CSV_HEADER))"
   ]
  },
  {
   "cell_type": "code",
   "execution_count": 15,
   "metadata": {},
   "outputs": [],
   "source": [
    "import csv\n",
    "\n",
    "my_sql_data_path = 'my_sql_data.csv'\n",
    "with open(my_sql_data_path, 'w', newline='') as file:\n",
    "    writer = csv.writer(file)\n",
    "    writer.writerow(header)\n",
    "    writer.writerows(my_sql_data)"
   ]
  },
  {
   "cell_type": "code",
   "execution_count": 16,
   "metadata": {},
   "outputs": [],
   "source": [
    "db.close_connection()"
   ]
  },
  {
   "attachments": {},
   "cell_type": "markdown",
   "metadata": {},
   "source": [
    "### Load my_data to RLHF"
   ]
  },
  {
   "cell_type": "code",
   "execution_count": 17,
   "metadata": {},
   "outputs": [],
   "source": [
    "my_sql_data_path = 'my_sql_data.csv'\n"
   ]
  },
  {
   "cell_type": "code",
   "execution_count": 23,
   "metadata": {},
   "outputs": [
    {
     "data": {
      "text/html": [
       "<div>\n",
       "<style scoped>\n",
       "    .dataframe tbody tr th:only-of-type {\n",
       "        vertical-align: middle;\n",
       "    }\n",
       "\n",
       "    .dataframe tbody tr th {\n",
       "        vertical-align: top;\n",
       "    }\n",
       "\n",
       "    .dataframe thead th {\n",
       "        text-align: right;\n",
       "    }\n",
       "</style>\n",
       "<table border=\"1\" class=\"dataframe\">\n",
       "  <thead>\n",
       "    <tr style=\"text-align: right;\">\n",
       "      <th></th>\n",
       "      <th>ID</th>\n",
       "      <th>Question</th>\n",
       "      <th>Answer</th>\n",
       "      <th>Vote Status</th>\n",
       "      <th>Timestamp</th>\n",
       "    </tr>\n",
       "  </thead>\n",
       "  <tbody>\n",
       "    <tr>\n",
       "      <th>0</th>\n",
       "      <td>1</td>\n",
       "      <td>Who is Rachel?</td>\n",
       "      <td>CEO of CambioML</td>\n",
       "      <td>up</td>\n",
       "      <td>2023-07-20 23:19:25.202246</td>\n",
       "    </tr>\n",
       "    <tr>\n",
       "      <th>1</th>\n",
       "      <td>2</td>\n",
       "      <td>Who is Jared?</td>\n",
       "      <td>CTO of CambioML</td>\n",
       "      <td>up</td>\n",
       "      <td>2023-07-20 23:19:25.206972</td>\n",
       "    </tr>\n",
       "    <tr>\n",
       "      <th>2</th>\n",
       "      <td>3</td>\n",
       "      <td>Who is Kimi?</td>\n",
       "      <td>Nobody of CambioML</td>\n",
       "      <td>down</td>\n",
       "      <td>2023-07-20 23:19:25.210210</td>\n",
       "    </tr>\n",
       "  </tbody>\n",
       "</table>\n",
       "</div>"
      ],
      "text/plain": [
       "   ID        Question              Answer Vote Status  \\\n",
       "0   1  Who is Rachel?     CEO of CambioML          up   \n",
       "1   2   Who is Jared?     CTO of CambioML          up   \n",
       "2   3    Who is Kimi?  Nobody of CambioML        down   \n",
       "\n",
       "                    Timestamp  \n",
       "0  2023-07-20 23:19:25.202246  \n",
       "1  2023-07-20 23:19:25.206972  \n",
       "2  2023-07-20 23:19:25.210210  "
      ]
     },
     "execution_count": 23,
     "metadata": {},
     "output_type": "execute_result"
    }
   ],
   "source": [
    "import pandas as pd\n",
    "my_data_hf = pd.read_csv(my_sql_data_path)\n",
    "my_data_hf"
   ]
  },
  {
   "cell_type": "code",
   "execution_count": 24,
   "metadata": {},
   "outputs": [
    {
     "data": {
      "text/html": [
       "<div>\n",
       "<style scoped>\n",
       "    .dataframe tbody tr th:only-of-type {\n",
       "        vertical-align: middle;\n",
       "    }\n",
       "\n",
       "    .dataframe tbody tr th {\n",
       "        vertical-align: top;\n",
       "    }\n",
       "\n",
       "    .dataframe thead th {\n",
       "        text-align: right;\n",
       "    }\n",
       "</style>\n",
       "<table border=\"1\" class=\"dataframe\">\n",
       "  <thead>\n",
       "    <tr style=\"text-align: right;\">\n",
       "      <th></th>\n",
       "      <th>ID</th>\n",
       "      <th>Question</th>\n",
       "      <th>Answer</th>\n",
       "    </tr>\n",
       "  </thead>\n",
       "  <tbody>\n",
       "    <tr>\n",
       "      <th>0</th>\n",
       "      <td>1</td>\n",
       "      <td>Who is Rachel?</td>\n",
       "      <td>CEO of CambioML</td>\n",
       "    </tr>\n",
       "    <tr>\n",
       "      <th>1</th>\n",
       "      <td>2</td>\n",
       "      <td>Who is Jared?</td>\n",
       "      <td>CTO of CambioML</td>\n",
       "    </tr>\n",
       "  </tbody>\n",
       "</table>\n",
       "</div>"
      ],
      "text/plain": [
       "   ID        Question           Answer\n",
       "0   1  Who is Rachel?  CEO of CambioML\n",
       "1   2   Who is Jared?  CTO of CambioML"
      ]
     },
     "execution_count": 24,
     "metadata": {},
     "output_type": "execute_result"
    }
   ],
   "source": [
    "common_header = [QA_CSV_HEADER_ID, QA_CSV_HEADER_QUESTION, QA_CSV_HEADER_ANSWER]\n",
    "\n",
    "## filter only upvote data\n",
    "my_data_hf_up = my_data_hf[my_data_hf[QA_CSV_HEADER_VOTE_STATUS] == 'up'][common_header]\n",
    "my_data_hf_up"
   ]
  },
  {
   "cell_type": "markdown",
   "metadata": {},
   "source": [
    "#### Add more data for training"
   ]
  },
  {
   "cell_type": "code",
   "execution_count": 25,
   "metadata": {},
   "outputs": [
    {
     "data": {
      "text/html": [
       "<div>\n",
       "<style scoped>\n",
       "    .dataframe tbody tr th:only-of-type {\n",
       "        vertical-align: middle;\n",
       "    }\n",
       "\n",
       "    .dataframe tbody tr th {\n",
       "        vertical-align: top;\n",
       "    }\n",
       "\n",
       "    .dataframe thead th {\n",
       "        text-align: right;\n",
       "    }\n",
       "</style>\n",
       "<table border=\"1\" class=\"dataframe\">\n",
       "  <thead>\n",
       "    <tr style=\"text-align: right;\">\n",
       "      <th></th>\n",
       "      <th>qid</th>\n",
       "      <th>question</th>\n",
       "      <th>response_j</th>\n",
       "    </tr>\n",
       "  </thead>\n",
       "  <tbody>\n",
       "    <tr>\n",
       "      <th>0</th>\n",
       "      <td>12891264</td>\n",
       "      <td>I am using jQuery fileupload plugin and I want...</td>\n",
       "      <td>Looking at the library code, seems all events ...</td>\n",
       "    </tr>\n",
       "    <tr>\n",
       "      <th>1</th>\n",
       "      <td>588860</td>\n",
       "      <td>When reading about the Big Bang you’ll commonl...</td>\n",
       "      <td>No. The local energy *density* is reduced as t...</td>\n",
       "    </tr>\n",
       "    <tr>\n",
       "      <th>2</th>\n",
       "      <td>141736</td>\n",
       "      <td>I've got a flight back to my own country with ...</td>\n",
       "      <td>12:45 pm is also 12:45 o'clock in internationa...</td>\n",
       "    </tr>\n",
       "    <tr>\n",
       "      <th>3</th>\n",
       "      <td>1484683</td>\n",
       "      <td>I have a piece of code that works fine in the ...</td>\n",
       "      <td>I had this exact same problem. The only way I ...</td>\n",
       "    </tr>\n",
       "    <tr>\n",
       "      <th>4</th>\n",
       "      <td>1484683</td>\n",
       "      <td>I have a piece of code that works fine in the ...</td>\n",
       "      <td>I had this exact same problem. The only way I ...</td>\n",
       "    </tr>\n",
       "  </tbody>\n",
       "</table>\n",
       "</div>"
      ],
      "text/plain": [
       "        qid                                           question  \\\n",
       "0  12891264  I am using jQuery fileupload plugin and I want...   \n",
       "1    588860  When reading about the Big Bang you’ll commonl...   \n",
       "2    141736  I've got a flight back to my own country with ...   \n",
       "3   1484683  I have a piece of code that works fine in the ...   \n",
       "4   1484683  I have a piece of code that works fine in the ...   \n",
       "\n",
       "                                          response_j  \n",
       "0  Looking at the library code, seems all events ...  \n",
       "1  No. The local energy *density* is reduced as t...  \n",
       "2  12:45 pm is also 12:45 o'clock in internationa...  \n",
       "3  I had this exact same problem. The only way I ...  \n",
       "4  I had this exact same problem. The only way I ...  "
      ]
     },
     "execution_count": 25,
     "metadata": {},
     "output_type": "execute_result"
    }
   ],
   "source": [
    "\n",
    "stackoverflow_dataset = pd.read_parquet('/home/ubuntu/datasets/finetuned-train-00000-of-00020.parquet', engine='fastparquet', index=False)\n",
    "my_stackoverflow_dataset = stackoverflow_dataset[['qid', 'question', 'response_j']]\n",
    "my_stackoverflow_dataset.head()"
   ]
  },
  {
   "cell_type": "code",
   "execution_count": 26,
   "metadata": {},
   "outputs": [
    {
     "data": {
      "text/html": [
       "<div>\n",
       "<style scoped>\n",
       "    .dataframe tbody tr th:only-of-type {\n",
       "        vertical-align: middle;\n",
       "    }\n",
       "\n",
       "    .dataframe tbody tr th {\n",
       "        vertical-align: top;\n",
       "    }\n",
       "\n",
       "    .dataframe thead th {\n",
       "        text-align: right;\n",
       "    }\n",
       "</style>\n",
       "<table border=\"1\" class=\"dataframe\">\n",
       "  <thead>\n",
       "    <tr style=\"text-align: right;\">\n",
       "      <th></th>\n",
       "      <th>ID</th>\n",
       "      <th>Question</th>\n",
       "      <th>Answer</th>\n",
       "    </tr>\n",
       "  </thead>\n",
       "  <tbody>\n",
       "    <tr>\n",
       "      <th>0</th>\n",
       "      <td>12891264</td>\n",
       "      <td>I am using jQuery fileupload plugin and I want...</td>\n",
       "      <td>Looking at the library code, seems all events ...</td>\n",
       "    </tr>\n",
       "    <tr>\n",
       "      <th>1</th>\n",
       "      <td>588860</td>\n",
       "      <td>When reading about the Big Bang you’ll commonl...</td>\n",
       "      <td>No. The local energy *density* is reduced as t...</td>\n",
       "    </tr>\n",
       "    <tr>\n",
       "      <th>2</th>\n",
       "      <td>141736</td>\n",
       "      <td>I've got a flight back to my own country with ...</td>\n",
       "      <td>12:45 pm is also 12:45 o'clock in internationa...</td>\n",
       "    </tr>\n",
       "    <tr>\n",
       "      <th>3</th>\n",
       "      <td>1484683</td>\n",
       "      <td>I have a piece of code that works fine in the ...</td>\n",
       "      <td>I had this exact same problem. The only way I ...</td>\n",
       "    </tr>\n",
       "    <tr>\n",
       "      <th>4</th>\n",
       "      <td>1484683</td>\n",
       "      <td>I have a piece of code that works fine in the ...</td>\n",
       "      <td>I had this exact same problem. The only way I ...</td>\n",
       "    </tr>\n",
       "  </tbody>\n",
       "</table>\n",
       "</div>"
      ],
      "text/plain": [
       "         ID                                           Question  \\\n",
       "0  12891264  I am using jQuery fileupload plugin and I want...   \n",
       "1    588860  When reading about the Big Bang you’ll commonl...   \n",
       "2    141736  I've got a flight back to my own country with ...   \n",
       "3   1484683  I have a piece of code that works fine in the ...   \n",
       "4   1484683  I have a piece of code that works fine in the ...   \n",
       "\n",
       "                                              Answer  \n",
       "0  Looking at the library code, seems all events ...  \n",
       "1  No. The local energy *density* is reduced as t...  \n",
       "2  12:45 pm is also 12:45 o'clock in internationa...  \n",
       "3  I had this exact same problem. The only way I ...  \n",
       "4  I had this exact same problem. The only way I ...  "
      ]
     },
     "execution_count": 26,
     "metadata": {},
     "output_type": "execute_result"
    }
   ],
   "source": [
    "my_stackoverflow_dataset.columns = common_header\n",
    "my_stackoverflow_dataset.head()"
   ]
  },
  {
   "cell_type": "code",
   "execution_count": 27,
   "metadata": {},
   "outputs": [
    {
     "data": {
      "text/html": [
       "<div>\n",
       "<style scoped>\n",
       "    .dataframe tbody tr th:only-of-type {\n",
       "        vertical-align: middle;\n",
       "    }\n",
       "\n",
       "    .dataframe tbody tr th {\n",
       "        vertical-align: top;\n",
       "    }\n",
       "\n",
       "    .dataframe thead th {\n",
       "        text-align: right;\n",
       "    }\n",
       "</style>\n",
       "<table border=\"1\" class=\"dataframe\">\n",
       "  <thead>\n",
       "    <tr style=\"text-align: right;\">\n",
       "      <th></th>\n",
       "      <th>ID</th>\n",
       "      <th>Question</th>\n",
       "      <th>Answer</th>\n",
       "      <th>Vote Status</th>\n",
       "      <th>Timestamp</th>\n",
       "    </tr>\n",
       "  </thead>\n",
       "  <tbody>\n",
       "    <tr>\n",
       "      <th>0</th>\n",
       "      <td>1</td>\n",
       "      <td>Who is Rachel?</td>\n",
       "      <td>CEO of CambioML</td>\n",
       "      <td>up</td>\n",
       "      <td>2023-07-20 23:19:25.202246</td>\n",
       "    </tr>\n",
       "    <tr>\n",
       "      <th>1</th>\n",
       "      <td>2</td>\n",
       "      <td>Who is Jared?</td>\n",
       "      <td>CTO of CambioML</td>\n",
       "      <td>up</td>\n",
       "      <td>2023-07-20 23:19:25.206972</td>\n",
       "    </tr>\n",
       "    <tr>\n",
       "      <th>2</th>\n",
       "      <td>3</td>\n",
       "      <td>Who is Kimi?</td>\n",
       "      <td>Nobody of CambioML</td>\n",
       "      <td>down</td>\n",
       "      <td>2023-07-20 23:19:25.210210</td>\n",
       "    </tr>\n",
       "    <tr>\n",
       "      <th>0</th>\n",
       "      <td>12891264</td>\n",
       "      <td>I am using jQuery fileupload plugin and I want...</td>\n",
       "      <td>Looking at the library code, seems all events ...</td>\n",
       "      <td>NaN</td>\n",
       "      <td>NaN</td>\n",
       "    </tr>\n",
       "    <tr>\n",
       "      <th>1</th>\n",
       "      <td>588860</td>\n",
       "      <td>When reading about the Big Bang you’ll commonl...</td>\n",
       "      <td>No. The local energy *density* is reduced as t...</td>\n",
       "      <td>NaN</td>\n",
       "      <td>NaN</td>\n",
       "    </tr>\n",
       "    <tr>\n",
       "      <th>2</th>\n",
       "      <td>141736</td>\n",
       "      <td>I've got a flight back to my own country with ...</td>\n",
       "      <td>12:45 pm is also 12:45 o'clock in internationa...</td>\n",
       "      <td>NaN</td>\n",
       "      <td>NaN</td>\n",
       "    </tr>\n",
       "    <tr>\n",
       "      <th>3</th>\n",
       "      <td>1484683</td>\n",
       "      <td>I have a piece of code that works fine in the ...</td>\n",
       "      <td>I had this exact same problem. The only way I ...</td>\n",
       "      <td>NaN</td>\n",
       "      <td>NaN</td>\n",
       "    </tr>\n",
       "    <tr>\n",
       "      <th>4</th>\n",
       "      <td>1484683</td>\n",
       "      <td>I have a piece of code that works fine in the ...</td>\n",
       "      <td>I had this exact same problem. The only way I ...</td>\n",
       "      <td>NaN</td>\n",
       "      <td>NaN</td>\n",
       "    </tr>\n",
       "    <tr>\n",
       "      <th>5</th>\n",
       "      <td>54589610</td>\n",
       "      <td>Gradle sync is failing after I updated its ver...</td>\n",
       "      <td>Following steps helps me - \\n\\n1. Change the *...</td>\n",
       "      <td>NaN</td>\n",
       "      <td>NaN</td>\n",
       "    </tr>\n",
       "    <tr>\n",
       "      <th>6</th>\n",
       "      <td>58521105</td>\n",
       "      <td>The below code groups the result (a List of Cl...</td>\n",
       "      <td>You are selecting `InnerList` from non-grouped...</td>\n",
       "      <td>NaN</td>\n",
       "      <td>NaN</td>\n",
       "    </tr>\n",
       "  </tbody>\n",
       "</table>\n",
       "</div>"
      ],
      "text/plain": [
       "         ID                                           Question  \\\n",
       "0         1                                     Who is Rachel?   \n",
       "1         2                                      Who is Jared?   \n",
       "2         3                                       Who is Kimi?   \n",
       "0  12891264  I am using jQuery fileupload plugin and I want...   \n",
       "1    588860  When reading about the Big Bang you’ll commonl...   \n",
       "2    141736  I've got a flight back to my own country with ...   \n",
       "3   1484683  I have a piece of code that works fine in the ...   \n",
       "4   1484683  I have a piece of code that works fine in the ...   \n",
       "5  54589610  Gradle sync is failing after I updated its ver...   \n",
       "6  58521105  The below code groups the result (a List of Cl...   \n",
       "\n",
       "                                              Answer Vote Status  \\\n",
       "0                                    CEO of CambioML          up   \n",
       "1                                    CTO of CambioML          up   \n",
       "2                                 Nobody of CambioML        down   \n",
       "0  Looking at the library code, seems all events ...         NaN   \n",
       "1  No. The local energy *density* is reduced as t...         NaN   \n",
       "2  12:45 pm is also 12:45 o'clock in internationa...         NaN   \n",
       "3  I had this exact same problem. The only way I ...         NaN   \n",
       "4  I had this exact same problem. The only way I ...         NaN   \n",
       "5  Following steps helps me - \\n\\n1. Change the *...         NaN   \n",
       "6  You are selecting `InnerList` from non-grouped...         NaN   \n",
       "\n",
       "                    Timestamp  \n",
       "0  2023-07-20 23:19:25.202246  \n",
       "1  2023-07-20 23:19:25.206972  \n",
       "2  2023-07-20 23:19:25.210210  \n",
       "0                         NaN  \n",
       "1                         NaN  \n",
       "2                         NaN  \n",
       "3                         NaN  \n",
       "4                         NaN  \n",
       "5                         NaN  \n",
       "6                         NaN  "
      ]
     },
     "execution_count": 27,
     "metadata": {},
     "output_type": "execute_result"
    }
   ],
   "source": [
    "my_data_hf = pd.concat([my_data_hf, my_stackoverflow_dataset])\n",
    "my_data_hf.head(10)"
   ]
  },
  {
   "cell_type": "code",
   "execution_count": 28,
   "metadata": {},
   "outputs": [],
   "source": [
    "my_data_hf.head(100).to_csv(my_sql_data_path)"
   ]
  },
  {
   "attachments": {},
   "cell_type": "markdown",
   "metadata": {},
   "source": [
    "### Load to huggingface"
   ]
  },
  {
   "cell_type": "code",
   "execution_count": 31,
   "metadata": {},
   "outputs": [
    {
     "name": "stderr",
     "output_type": "stream",
     "text": [
      "Found cached dataset csv (/home/ubuntu/.cache/huggingface/datasets/csv/default-077eb79c95e38daa/0.0.0/eea64c71ca8b46dd3f537ed218fc9bf495d5707789152eb2764f5c78fa66d59d)\n",
      "100%|██████████| 1/1 [00:00<00:00, 686.13it/s]\n"
     ]
    }
   ],
   "source": [
    "from datasets import load_dataset\n",
    "ds = load_dataset('csv', data_files=my_sql_data_path)"
   ]
  },
  {
   "cell_type": "code",
   "execution_count": 32,
   "metadata": {},
   "outputs": [
    {
     "data": {
      "text/plain": [
       "(Dataset({\n",
       "     features: ['Unnamed: 0', 'ID', 'Question', 'Answer', 'Vote Status', 'Timestamp'],\n",
       "     num_rows: 90\n",
       " }),\n",
       " Dataset({\n",
       "     features: ['Unnamed: 0', 'ID', 'Question', 'Answer', 'Vote Status', 'Timestamp'],\n",
       "     num_rows: 10\n",
       " }))"
      ]
     },
     "execution_count": 32,
     "metadata": {},
     "output_type": "execute_result"
    }
   ],
   "source": [
    "ds = ds['train'] # Convert DatasetDict to Dataset\n",
    "\n",
    "ds = ds.train_test_split(test_size=0.1)\n",
    "train_dataset = ds[\"train\"]\n",
    "test_dataset = ds[\"test\"]\n",
    "\n",
    "train_dataset, test_dataset\n"
   ]
  },
  {
   "attachments": {},
   "cell_type": "markdown",
   "metadata": {},
   "source": [
    "### Test RLHF code with DB"
   ]
  },
  {
   "cell_type": "code",
   "execution_count": 34,
   "metadata": {},
   "outputs": [],
   "source": [
    "from plotano.rlhf.rlhf import RLHFConfig\n",
    "\n",
    "config = RLHFConfig(\n",
    "    base_model_path=\"meta-llama/Llama-2-7b-hf\", ## \"distilroberta-base\", ##\n",
    "    reward_model_path=\"databricks/dolly-v2-3b\", \n",
    "    dataset_type=\"csv\", ## \"huggingface\", ## \n",
    "    dataset_name='/home/ubuntu/plotano/plotano/my_sql_data.csv',\n",
    "    max_steps=10,\n",
    "    output_dir=\"../rlhf_tests/\",\n",
    ")"
   ]
  },
  {
   "cell_type": "code",
   "execution_count": 36,
   "metadata": {},
   "outputs": [
    {
     "name": "stderr",
     "output_type": "stream",
     "text": [
      "Found cached dataset csv (/home/ubuntu/.cache/huggingface/datasets/csv/default-077eb79c95e38daa/0.0.0/eea64c71ca8b46dd3f537ed218fc9bf495d5707789152eb2764f5c78fa66d59d)\n",
      "100%|██████████| 1/1 [00:00<00:00, 817.28it/s]\n",
      "Loading cached split indices for dataset at /home/ubuntu/.cache/huggingface/datasets/csv/default-077eb79c95e38daa/0.0.0/eea64c71ca8b46dd3f537ed218fc9bf495d5707789152eb2764f5c78fa66d59d/cache-6229905a46229d4c.arrow and /home/ubuntu/.cache/huggingface/datasets/csv/default-077eb79c95e38daa/0.0.0/eea64c71ca8b46dd3f537ed218fc9bf495d5707789152eb2764f5c78fa66d59d/cache-e4b02ef5d2b42908.arrow\n",
      "/opt/conda/envs/trl/lib/python3.10/site-packages/trl/trainer/utils.py:246: UserWarning: The passed formatting_func has more than one argument. Usually that function should have a single argument `example` which corresponds to the dictonnary returned by each element of the dataset. Make sure you know what you are doing.\n",
      "  warnings.warn(\n"
     ]
    },
    {
     "name": "stdout",
     "output_type": "stream",
     "text": [
      "Size of the train set: 90.               Size of the validation set: 10\n"
     ]
    },
    {
     "name": "stderr",
     "output_type": "stream",
     "text": [
      "Loading checkpoint shards: 100%|██████████| 2/2 [00:51<00:00, 25.79s/it]\n",
      "/opt/conda/envs/trl/lib/python3.10/site-packages/peft/utils/other.py:102: FutureWarning: prepare_model_for_int8_training is deprecated and will be removed in a future version. Use prepare_model_for_kbit_training instead.\n",
      "  warnings.warn(\n",
      "Using pad_token, but it is not set yet.\n",
      "/opt/conda/envs/trl/lib/python3.10/site-packages/trl/trainer/sft_trainer.py:159: UserWarning: You didn't pass a `max_seq_length` argument to the SFTTrainer, this will default to 1024\n",
      "  warnings.warn(\n",
      "/opt/conda/envs/trl/lib/python3.10/site-packages/trl/trainer/sft_trainer.py:212: UserWarning: You passed `packing=True` to the SFTTrainer, and you are training your model with `max_steps` strategy. The dataset will be iterated until the `max_steps` are reached.\n",
      "  warnings.warn(\n"
     ]
    }
   ],
   "source": [
    "from plotano.rlhf.rlhf import SFT ##, RewardTrainer, RL\n",
    "\n",
    "rlhf_step1_sft = SFT(config)"
   ]
  },
  {
   "cell_type": "code",
   "execution_count": 37,
   "metadata": {},
   "outputs": [
    {
     "name": "stderr",
     "output_type": "stream",
     "text": [
      "/opt/conda/envs/trl/lib/python3.10/site-packages/transformers/optimization.py:411: FutureWarning: This implementation of AdamW is deprecated and will be removed in a future version. Use the PyTorch implementation torch.optim.AdamW instead, or set `no_deprecation_warning=True` to disable this warning\n",
      "  warnings.warn(\n",
      "/opt/conda/envs/trl/lib/python3.10/site-packages/trl/trainer/utils.py:268: UserWarning: The dataset reached end and the iterator is reset to the start.\n",
      "  warnings.warn(\"The dataset reached end and the iterator is reset to the start.\")\n",
      "You're using a LlamaTokenizerFast tokenizer. Please note that with a fast tokenizer, using the `__call__` method is faster than using a method to encode the text followed by a call to the `pad` method to get a padded encoding.\n",
      "`use_cache=True` is incompatible with gradient checkpointing. Setting `use_cache=False`...\n",
      "/opt/conda/envs/trl/lib/python3.10/site-packages/bitsandbytes/autograd/_functions.py:321: UserWarning: MatMul8bitLt: inputs will be cast from torch.float32 to float16 during quantization\n",
      "  warnings.warn(f\"MatMul8bitLt: inputs will be cast from {A.dtype} to float16 during quantization\")\n"
     ]
    },
    {
     "data": {
      "text/html": [
       "\n",
       "    <div>\n",
       "      \n",
       "      <progress value='3' max='3' style='width:300px; height:20px; vertical-align: middle;'></progress>\n",
       "      [3/3 00:16, Epoch 0/1]\n",
       "    </div>\n",
       "    <table border=\"1\" class=\"dataframe\">\n",
       "  <thead>\n",
       " <tr style=\"text-align: left;\">\n",
       "      <th>Step</th>\n",
       "      <th>Training Loss</th>\n",
       "      <th>Validation Loss</th>\n",
       "    </tr>\n",
       "  </thead>\n",
       "  <tbody>\n",
       "  </tbody>\n",
       "</table><p>"
      ],
      "text/plain": [
       "<IPython.core.display.HTML object>"
      ]
     },
     "metadata": {},
     "output_type": "display_data"
    }
   ],
   "source": [
    "rlhf_step1_sft.train_and_save(\"../rlhf_tests/step1_07201638\")"
   ]
  },
  {
   "cell_type": "code",
   "execution_count": null,
   "metadata": {},
   "outputs": [],
   "source": []
  }
 ],
 "metadata": {
  "kernelspec": {
   "display_name": "peel",
   "language": "python",
   "name": "python3"
  },
  "language_info": {
   "codemirror_mode": {
    "name": "ipython",
    "version": 3
   },
   "file_extension": ".py",
   "mimetype": "text/x-python",
   "name": "python",
   "nbconvert_exporter": "python",
   "pygments_lexer": "ipython3",
   "version": "3.10.12"
  },
  "orig_nbformat": 4
 },
 "nbformat": 4,
 "nbformat_minor": 2
}

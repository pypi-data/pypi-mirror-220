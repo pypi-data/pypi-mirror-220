{
 "cells": [
  {
   "cell_type": "code",
   "execution_count": 1,
   "metadata": {},
   "outputs": [
    {
     "data": {
      "text/html": [
       "<style>\n",
       "    .widget-radio-box {\n",
       "        flex-direction: row !important;     \n",
       "    }\n",
       "    .widget-radio-box label{\n",
       "        margin:5px !important;\n",
       "        width: 120px !important;\n",
       "    }\n",
       "</style>\n"
      ],
      "text/plain": [
       "<IPython.core.display.HTML object>"
      ]
     },
     "metadata": {},
     "output_type": "display_data"
    }
   ],
   "source": [
    "%%html\n",
    "<style>\n",
    "    .widget-radio-box {\n",
    "        flex-direction: row !important;     \n",
    "    }\n",
    "    .widget-radio-box label{\n",
    "        margin:5px !important;\n",
    "        width: 120px !important;\n",
    "    }\n",
    "</style>"
   ]
  },
  {
   "cell_type": "code",
   "execution_count": 2,
   "metadata": {},
   "outputs": [
    {
     "name": "stderr",
     "output_type": "stream",
     "text": [
      "Warning: Nashorn engine is planned to be removed from a future JDK release\n",
      "WARNING: An illegal reflective access operation has occurred\n",
      "WARNING: Illegal reflective access by sc.fiji.compat.DefaultFijiService (file:/home/xiao/software/Fiji.app/jars/fiji-2.3.1.jar) to field sun.awt.X11.XToolkit.awtAppClassName\n",
      "WARNING: Please consider reporting this to the maintainers of sc.fiji.compat.DefaultFijiService\n",
      "WARNING: Use --illegal-access=warn to enable warnings of further illegal reflective access operations\n",
      "WARNING: All illegal access operations will be denied in a future release\n"
     ]
    },
    {
     "data": {
      "application/vnd.jupyter.widget-view+json": {
       "model_id": "b2e6e32311164e3eaad05f9e8d0ac989",
       "version_major": 2,
       "version_minor": 0
      },
      "text/plain": [
       "Tab(children=(Tab(children=(VBox(children=(VBox(children=(HBox(children=(HTML(value=\"<span style='color:red; f…"
      ]
     },
     "metadata": {},
     "output_type": "display_data"
    },
    {
     "name": "stderr",
     "output_type": "stream",
     "text": [
      "WARNING: Qt: Session management error: None of the authentication protocols specified are supported\n"
     ]
    }
   ],
   "source": [
    "%gui qt\n",
    "from TXM_Sandbox.gui import main_gui as txmg\n",
    "gui = txmg.txm_gui(fiji_path='/home/xiao/software/Fiji.app', form_sz=[750, 1000])\n",
    "gui.gui_layout() \n",
    "\n"
   ]
  },
  {
   "cell_type": "code",
   "execution_count": null,
   "metadata": {},
   "outputs": [],
   "source": [
    "import os, h5py\n",
    "import numpy as np\n",
    "import dask.array as da\n",
    "from pathlib import Path\n",
    "from TXM_Sandbox.dicts import customized_struct_dict as dat_dict\n",
    "\n",
    "self = gui.misc_gui.conv_data_gui\n",
    "\n",
    "ifn = Path.resolve(Path(self.in_dat_fn))\n",
    "print(ifn)\n",
    "a = ifn.parent.joinpath(ifn.stem+'_export',  self.in_dat_slcd_item)\n",
    "print(a)\n",
    "print(self.hs['ConvDatOutFn btn'].defaultextension)\n",
    "print(self.out_fn_path)\n",
    "print(self.out_fn_fnt)\n",
    "print(self.in_dat_path_in_h5)\n",
    "print(self.in_dat_slcd_item)\n",
    "print(dat_dict.XANES2D_ANA_ITEM_DICT['mask']['path'].format(self.in_dat_slcd_item))\n",
    "\n",
    "with h5py.File(self.in_dat_fn, 'r') as f:\n",
    "    path = '/processed_XANES2D/gen_masks/mk00_weighted_attenuation//mk00_weighted_attenuation'\n",
    "    print(f[path].shape)\n",
    "a = [0, 1]\n",
    "a += [1, 2, 3]\n",
    "print(a)"
   ]
  },
  {
   "cell_type": "code",
   "execution_count": null,
   "metadata": {},
   "outputs": [],
   "source": [
    "import os\n",
    "self = gui.misc_gui.conv_data_gui\n",
    "print(f\"{self.in_dat_type_chgd=}\")\n",
    "print(f\"{self.in_dat_items=}\")\n",
    "print(f\"{self.hs['ConvDatInItm sel'].options=}\")\n",
    "print(f\"{self.in_dat_slcd_item=}\")\n",
    "print(f\"{self.out_fn_path=}\")\n",
    "print(f\"{self.hs['ConvDatOutFn btn'].initialdir=}\")\n",
    "print(f\"{self.global_h.cwd=}\")\n",
    "#print(os.path.abspath(os.path.dirname(self.hs['ConvDatOutFn btn'].files[0])))\n",
    "print(self.out_fn_set)\n",
    "print((self.out_fn_fnt))"
   ]
  },
  {
   "cell_type": "code",
   "execution_count": null,
   "metadata": {},
   "outputs": [],
   "source": [
    "from tkinter import filedialog\n",
    "dir(filedialog)"
   ]
  },
  {
   "cell_type": "code",
   "execution_count": null,
   "metadata": {},
   "outputs": [],
   "source": [
    "\n",
    "\"\"\"print(self.in_fn_set)\n",
    "print(self.out_dat_type)\n",
    "print(self.out_fn_fnt)\n",
    "print(self.in_dat_slcd_item)\n",
    "print(self.in_dat_fn)\n",
    "print(os.path.splitext(os.path.abspath(self.in_dat_fn))[0])\"\"\"\n",
    "\n",
    "#import dask.array as da\n",
    "#from TXM_Sandbox.utils.io import h5_lazy_reader\n",
    "from TXM_Sandbox.gui.gui_components import enable_disable_boxes\n",
    "self = gui.xanes2D_gui.xanes_ana_gui_h\n",
    "print(f\"{self.ana_mask_sngl=}\", '\\n')\n",
    "print(f\"{self.ana_mask_comb=}\", '\\n')\n",
    "print(f\"{self.ana_mask=}\", '\\n')\n",
    "print(f\"{self.ana_mask_comb_op=}\\n\")\n",
    "print(f\"{self.ana_mask_sngl_op=}\\n\")\n",
    "print(len(self.hs[\"AnaCombMaskOpStps sel\"].options))\n",
    "\n",
    "#enable_disable_boxes(self.hs, 'AnaConfAna gslyt', disabled=True, level=-1)\n",
    "#print(type(self.AnaConfAna_GridSpecLayout.children))\n",
    "#self.hs['AnaAnaMask drpdn'].options = list(self.ana_mask.keys()).append('None')\n",
    "\n",
    "\"\"\"print(self.ana_mask_sngl_cnfged)\n",
    "print(self.hs[\"AnaCombMaskName sel\"].index)\n",
    "print(len(self.hs[\"AnaCombMaskOpStps sel\"].options))\"\"\"\n",
    "\n",
    "\"\"\"print(self.hs[\"AnaCombMaskOpStps sel\"].index)\n",
    "print(self.ana_mask_comb_op)\n",
    "print(self.ana_mask)\n",
    "print(self.ana_mask['mk00_weighted_attenuation'].shape)\n",
    "print((self.ana_data['centroid_of_eng']*self.ana_data['weighted_attenuation']).shape)\"\"\"\n",
    "\n",
    "\n",
    "#a = h5_lazy_reader(self.ana_fn, os.path.join(self.ana_proc_spec_path_in_h5, 'wl_pos_fit'), np.s_[:])\n",
    "#print(a)\n",
    "\n",
    "\"\"\"print(os.path.join(self.ana_proc_spec_path_in_h5, 'wl_pos_fit'))\n",
    "print(self.ana_spec)\n",
    "print(self.ana_data[self.hs['AnaMaskVarName drpn'].value])\n",
    "print(self.hs['AnaMaskVarName drpn'].value)\n",
    "\n",
    "for key in self.ana_data.keys():\n",
    "    print(self.ana_data[key].dtype)\n",
    "    \n",
    "for key in self.ana_spec.keys():\n",
    "    print(self.ana_spec[key].shape)\"\"\"\n",
    "\n",
    "\"\"\"mask = self.hs['AnaCombMaskVar drpn'].value\n",
    "op = self.ana_mask_sngl[mask]['op']\n",
    "print(mask)\n",
    "print(op)\n",
    "\n",
    "info = ''\n",
    "for k0 in op.keys():\n",
    "    info = info + op[k0]['flt_name']+':' + str([f'{k1}: {i1},' for k1, i1 in op[k0]['pars'].items()]) + '\\n'\n",
    "    \n",
    "    #info = info + f\"{key}: {item}\\n\"\n",
    "self.hs['AnaCombMaskVarInfo txt'].value = info\"\"\"\n",
    "\n",
    "#print(self.hs['AnaCombMaskVarInfo txt'].value)\n",
    "\n",
    "#spec = self.ana_data[self.hs['AnaMaskSpecName drpn'].value]\n",
    "#spec = da.from_delayed(spec, shape=spec.shape, dtype=spec.dtype)\n",
    "#mask = self.ana_data[self.hs['AnaMaskVarName drpn'].value]\n",
    "#print(type(mask), mask.shape)\n",
    "#print(mask[:10].shape)\n",
    "\n",
    "\"\"\"for key in sorted(self.ana_mask_sngl_op.keys()):\n",
    "    print(key)\n",
    "    data = self.ana_mask_sngl_op[key]['flt'](data, **self.ana_mask_sngl_op[key]['pars'])\n",
    "\n",
    "print(type(data))\n",
    "data1 = data.compute()\n",
    "print(type(data1), data1.dtype)\"\"\"\n",
    "\n",
    "\"\"\"print(self.ana_mask_op.keys())\n",
    "print(gui.xanes2D_gui.xanes_ana_gui_h.ana_mask_op)\n",
    "print(gui.xanes2D_gui.xanes_ana_gui_h.hs['AnaSelVars sel'].options)\n",
    "print(self.hs['AnaDataFn btn'].initialdir)\n",
    "print(self.parent_h.global_h.GUI_cfg_file)\n",
    "print(gui.cwd)\n",
    "print(f\"{self.ana_data['centroid_of_eng'].shape=}\")\n",
    "arr = da.from_delayed(self.ana_data['centroid_of_eng'])\n",
    "print(arr.shape)\n",
    "seled_ds = list(gui.xanes2D_gui.xanes_ana_gui_h.hs['AnaSelVars sel'].options)\n",
    "new_ds = self.hs['AnaAvaiDatasets sel'].value\n",
    "print(f\"{seled_ds=}\\n{new_ds=}\")\n",
    "if new_ds not in seled_ds:\n",
    "    seled_ds.append(new_ds)\n",
    "    eqn = ['=' for ii in range(len(seled_ds))]\n",
    "    self.hs['AnaSelVars sel'].options = seled_ds\n",
    "    self.hs['AnaVarsEq sel'].options = eqn\n",
    "    self.hs['AnaVarName sel'].options = seled_ds\n",
    "    print(f\"{seled_ds=}\\n{eqn=}\")\n",
    "idx = seled_ds.index(gui.xanes2D_gui.xanes_ana_gui_h.hs['AnaSelVars sel'].value)\n",
    "print(idx)\n",
    "print(list(self.hs['AnaSelVars sel'].options))\n",
    "#print(gui.cwd)\"\"\""
   ]
  },
  {
   "cell_type": "code",
   "execution_count": null,
   "metadata": {},
   "outputs": [],
   "source": [
    "import imagej"
   ]
  },
  {
   "cell_type": "code",
   "execution_count": null,
   "metadata": {},
   "outputs": [],
   "source": [
    "ij = imagej.init('/home/xiao/software/Fiji.app', mode=imagej.Mode.INTERACTIVE)\n",
    "ijui = ij.ui()\n",
    "ijui.showUI()"
   ]
  },
  {
   "cell_type": "code",
   "execution_count": null,
   "metadata": {},
   "outputs": [],
   "source": [
    "wm = ij.WindowManager"
   ]
  },
  {
   "cell_type": "code",
   "execution_count": null,
   "metadata": {},
   "outputs": [],
   "source": [
    "import numpy as np\n",
    "a = np.index_exp[1, 5:7]\n",
    "b= np.ones([10,10, 10])\n",
    "c = b[a]\n",
    "print(a)\n",
    "print(c)"
   ]
  },
  {
   "cell_type": "code",
   "execution_count": null,
   "metadata": {},
   "outputs": [],
   "source": [
    "import numpy as np\n",
    "if slice(None, None, None) == np.s_[:]:\n",
    "    print(1)\n",
    "else:\n",
    "    print(0)"
   ]
  },
  {
   "cell_type": "code",
   "execution_count": null,
   "metadata": {
    "tags": []
   },
   "outputs": [],
   "source": [
    "def set_complement(*, B):\n",
    "    return np.int8(((1 - B) > 0))"
   ]
  },
  {
   "cell_type": "code",
   "execution_count": null,
   "metadata": {},
   "outputs": [],
   "source": [
    "d = set_complement(3, B=c)"
   ]
  },
  {
   "cell_type": "code",
   "execution_count": null,
   "metadata": {},
   "outputs": [],
   "source": [
    "import numpy as np\n",
    "from dask import delayed\n",
    "from dask.array import from_delayed\n",
    "\n",
    "\n",
    "def make_da_decorator(dtype=np.int8):\n",
    "    def inner(func):\n",
    "        def wrapper(img, *args, **kwargs):\n",
    "            shp = img.shape\n",
    "            return from_delayed(delayed(func(img, *args, **kwargs)), shape=shp, dtype=dtype)\n",
    "        return wrapper\n",
    "    return inner\n",
    "    \n",
    "@make_da_decorator(dtype=np.int8)\n",
    "def threshold(image, lower=0, upper=1):\n",
    "    return np.int8((image > lower) & (image < upper))"
   ]
  },
  {
   "cell_type": "code",
   "execution_count": null,
   "metadata": {},
   "outputs": [],
   "source": [
    "a = np.ones([10, 10])\n",
    "b = threshold(a)\n",
    "print(b.shape, b.dtype, type(b))"
   ]
  },
  {
   "cell_type": "code",
   "execution_count": null,
   "metadata": {},
   "outputs": [],
   "source": [
    "print([ii in [1,3,5] for ii in [1,2,3]])\n",
    "print(any([ii in [1,3,5] for ii in [1,2,3]]))"
   ]
  },
  {
   "cell_type": "code",
   "execution_count": null,
   "metadata": {},
   "outputs": [],
   "source": [
    "import os, numpy as np\n",
    "import tifffile\n",
    "from PIL import Image\n",
    "import glob\n",
    "#dir(os.path)\n",
    "print(os.path.splitext('test.h5.tif.h5'))\n",
    "print(np.s_[:])\n",
    "im = np.zeros([10, 10, 10])\n",
    "print(im[np.s_[:]].shape)\n",
    "\n",
    "fn = '/run/media/xiao/Data/data/3D_xanes/recon_fly_scan_id_56600/recon_fly_scan_id_56600_{}.tiff'\n",
    "fl = glob.glob(fn.format('*'))\n",
    "print(len(fl))"
   ]
  },
  {
   "cell_type": "code",
   "execution_count": null,
   "metadata": {
    "tags": []
   },
   "outputs": [],
   "source": [
    "import os\n",
    "a = '/a/b/c/test.test2_a_{}.tiff'\n",
    "b = '/a/b/c/test.test2_a.tiff'\n",
    "#print(a.strip('_{}'))\n",
    "print(os.path.splitext(b)[0])\n",
    "#print(os.path.dirname(b, os.path.extsep))\n",
    "#dir(os.path)"
   ]
  },
  {
   "cell_type": "code",
   "execution_count": null,
   "metadata": {},
   "outputs": [],
   "source": [
    "fn = '/run/media/xiao/Data/data/3D_xanes/recon_fly_scan_id_56600/recon_fly_scan_id_56600_00016.tiff'\n",
    "f = Image.open(fn)\n",
    "dir(f)\n",
    "f.close()"
   ]
  },
  {
   "cell_type": "code",
   "execution_count": null,
   "metadata": {},
   "outputs": [],
   "source": [
    "print(f.im)"
   ]
  },
  {
   "cell_type": "code",
   "execution_count": null,
   "metadata": {},
   "outputs": [],
   "source": []
  }
 ],
 "metadata": {
  "kernelspec": {
   "display_name": "Python 3 (ipykernel)",
   "language": "python",
   "name": "python3"
  },
  "language_info": {
   "codemirror_mode": {
    "name": "ipython",
    "version": 3
   },
   "file_extension": ".py",
   "mimetype": "text/x-python",
   "name": "python",
   "nbconvert_exporter": "python",
   "pygments_lexer": "ipython3",
   "version": "3.10.6"
  }
 },
 "nbformat": 4,
 "nbformat_minor": 4
}
